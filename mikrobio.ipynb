{
 "cells": [
  {
   "cell_type": "code",
   "execution_count": null,
   "metadata": {},
   "outputs": [],
   "source": [
    "import matplotlib.pyplot as plt\n",
    "import seaborn as sns\n",
    "import pandas as pd\n",
    "import numpy as np\n",
    "\n",
    "from adjustText import adjust_text"
   ]
  },
  {
   "cell_type": "code",
   "execution_count": null,
   "metadata": {},
   "outputs": [],
   "source": [
    "df = pd.read_csv('level_6.tsv', sep='\\t')"
   ]
  },
  {
   "cell_type": "code",
   "execution_count": null,
   "metadata": {},
   "outputs": [],
   "source": []
  },
  {
   "cell_type": "code",
   "execution_count": null,
   "metadata": {},
   "outputs": [],
   "source": [
    "df.dtypes"
   ]
  },
  {
   "cell_type": "code",
   "execution_count": null,
   "metadata": {},
   "outputs": [],
   "source": [
    "df['suma'] = df['V3-02-22-R24'] + df['V3-03-22-R23'] + df['V3-05-22-R23'] + df['V3-06-21-R14'] + df['V3-07-21-R23'] + df['V3-10-21-R34'] + df['V3-12-21-R23']"
   ]
  },
  {
   "cell_type": "code",
   "execution_count": null,
   "metadata": {},
   "outputs": [],
   "source": [
    "df_sorted = df.sort_values(by='suma', ascending=False)"
   ]
  },
  {
   "cell_type": "code",
   "execution_count": null,
   "metadata": {},
   "outputs": [],
   "source": [
    "df_sorted_top50 = df_sorted.head(50)"
   ]
  },
  {
   "cell_type": "code",
   "execution_count": null,
   "metadata": {
    "scrolled": true
   },
   "outputs": [],
   "source": [
    "df_sorted_top50"
   ]
  },
  {
   "cell_type": "code",
   "execution_count": null,
   "metadata": {},
   "outputs": [],
   "source": [
    "df_sorted_top50.to_csv('level_6_top50.csv', sep='\\t', index=False)"
   ]
  },
  {
   "cell_type": "code",
   "execution_count": null,
   "metadata": {},
   "outputs": [],
   "source": []
  },
  {
   "cell_type": "code",
   "execution_count": null,
   "metadata": {},
   "outputs": [],
   "source": []
  },
  {
   "cell_type": "code",
   "execution_count": null,
   "metadata": {},
   "outputs": [],
   "source": [
    "data = pd.read_csv('level_6_top50_do_plota.csv', sep='\\t')"
   ]
  },
  {
   "cell_type": "code",
   "execution_count": null,
   "metadata": {},
   "outputs": [],
   "source": [
    "data"
   ]
  },
  {
   "cell_type": "code",
   "execution_count": null,
   "metadata": {
    "scrolled": false
   },
   "outputs": [],
   "source": [
    "plt.rcParams['figure.figsize'] = [10,40]\n",
    "sns.set(font_scale=2)\n",
    "\n",
    "ax = sns.scatterplot(data=data, x=\"Date\", y=\"Genus\", size=\"wielkosc\", legend=False, hue=\"Date\",  sizes=(20, 2000))\n",
    "#plt.legend(bbox_to_anchor=(1, 1), loc='upper left', fontsize=17)\n",
    "plt.show()"
   ]
  },
  {
   "cell_type": "code",
   "execution_count": null,
   "metadata": {},
   "outputs": [],
   "source": []
  },
  {
   "cell_type": "markdown",
   "metadata": {},
   "source": [
    "# PCA"
   ]
  },
  {
   "cell_type": "code",
   "execution_count": null,
   "metadata": {},
   "outputs": [],
   "source": [
    "dane_do_pca = pd.read_csv('level_6_top50_do_PCA.csv', sep='\\t', parse_dates=True)"
   ]
  },
  {
   "cell_type": "code",
   "execution_count": null,
   "metadata": {
    "scrolled": true
   },
   "outputs": [],
   "source": [
    "dane_do_pca"
   ]
  },
  {
   "cell_type": "code",
   "execution_count": null,
   "metadata": {},
   "outputs": [],
   "source": [
    "from sklearn.preprocessing import StandardScaler"
   ]
  },
  {
   "cell_type": "code",
   "execution_count": null,
   "metadata": {},
   "outputs": [],
   "source": [
    "lista = ['temp']\n",
    "\n",
    "for i in range(1,51):\n",
    "    lista.append(str(i))\n",
    "    \n"
   ]
  },
  {
   "cell_type": "code",
   "execution_count": null,
   "metadata": {},
   "outputs": [],
   "source": [
    "# Separating out the features\n",
    "\n",
    "features = lista\n",
    "\n",
    "x = dane_do_pca.loc[:, features].values# Separating out the target\n",
    "y = dane_do_pca.loc[:,['Data']].values# Standardizing the features\n",
    "x = StandardScaler().fit_transform(x)"
   ]
  },
  {
   "cell_type": "code",
   "execution_count": null,
   "metadata": {},
   "outputs": [],
   "source": [
    "from sklearn.decomposition import PCA\n",
    "pca = PCA(n_components=2)\n",
    "principalComponents = pca.fit_transform(x)\n",
    "principalDf = pd.DataFrame(data = principalComponents, columns = ['principal component 1', 'principal component 2'])"
   ]
  },
  {
   "cell_type": "code",
   "execution_count": null,
   "metadata": {},
   "outputs": [],
   "source": [
    "finalDf = pd.concat([principalDf, dane_do_pca[['Data']]], axis = 1)"
   ]
  },
  {
   "cell_type": "code",
   "execution_count": null,
   "metadata": {},
   "outputs": [],
   "source": [
    "from matplotlib import pyplot as plt\n",
    "\n",
    "fig = plt.figure(figsize = (8,8))\n",
    "ax = fig.add_subplot(1,1,1) \n",
    "ax.set_xlabel('Principal Component 1', fontsize = 15)\n",
    "ax.set_ylabel('Principal Component 2', fontsize = 15)\n",
    "ax.set_title('2 component PCA', fontsize = 20)\n",
    "targets = ['V3-02-22-R24', 'V3-03-22-R23', 'V3-05-22-R23', 'V3-06-21-R14', 'V3-07-21-R23', 'V3-10-21-R34', 'V3-12-21-R23']\n",
    "colors = ['r', 'g', 'b', 'y', 'purple', 'aqua', 'olive']\n",
    "for target, color in zip(targets,colors):\n",
    "    indicesToKeep = finalDf['Data'] == target\n",
    "    ax.scatter(finalDf.loc[indicesToKeep, 'principal component 1']\n",
    "               , finalDf.loc[indicesToKeep, 'principal component 2']\n",
    "               , c = color\n",
    "               , s = 50)\n",
    "ax.legend(targets)\n",
    "ax.grid()"
   ]
  },
  {
   "cell_type": "code",
   "execution_count": null,
   "metadata": {},
   "outputs": [],
   "source": [
    "# PCA Transponowane na bakterie, nie na okresy"
   ]
  },
  {
   "cell_type": "code",
   "execution_count": null,
   "metadata": {},
   "outputs": [],
   "source": [
    "dane_do_pca = pd.read_csv('level_6_top50_do_PCA_T.csv', sep='\\t', parse_dates=True)"
   ]
  },
  {
   "cell_type": "code",
   "execution_count": null,
   "metadata": {
    "scrolled": true
   },
   "outputs": [],
   "source": [
    "dane_do_pca"
   ]
  },
  {
   "cell_type": "code",
   "execution_count": null,
   "metadata": {},
   "outputs": [],
   "source": [
    "lista = []\n",
    "\n",
    "for i in range(1,4):\n",
    "    lista.append(str(i))\n",
    "    \n"
   ]
  },
  {
   "cell_type": "code",
   "execution_count": null,
   "metadata": {},
   "outputs": [],
   "source": [
    "lista"
   ]
  },
  {
   "cell_type": "code",
   "execution_count": null,
   "metadata": {},
   "outputs": [],
   "source": [
    "# Separating out the features\n",
    "\n",
    "features = ['V3-02-22-R24', 'V3-03-22-R23', 'V3-05-22-R23', 'V3-06-21-R14', 'V3-07-21-R23', 'V3-10-21-R34', 'V3-12-21-R23']\n",
    "\n",
    "x = dane_do_pca.loc[:, features].values# Separating out the target\n",
    "y = dane_do_pca.loc[:,['bakteria']].values# Standardizing the features\n",
    "x = StandardScaler().fit_transform(x)"
   ]
  },
  {
   "cell_type": "code",
   "execution_count": null,
   "metadata": {},
   "outputs": [],
   "source": [
    "from sklearn.decomposition import PCA\n",
    "pca = PCA(n_components=2)\n",
    "principalComponents = pca.fit_transform(x)\n",
    "principalDf = pd.DataFrame(data = principalComponents, columns = ['principal component 1', 'principal component 2'])"
   ]
  },
  {
   "cell_type": "code",
   "execution_count": null,
   "metadata": {},
   "outputs": [],
   "source": [
    "finalDf = pd.concat([principalDf, dane_do_pca[['bakteria']]], axis = 1)"
   ]
  },
  {
   "cell_type": "code",
   "execution_count": null,
   "metadata": {},
   "outputs": [],
   "source": [
    "from matplotlib import pyplot as plt\n",
    "\n",
    "fig = plt.figure(figsize = (8,8))\n",
    "ax = fig.add_subplot(1,1,1) \n",
    "ax.set_xlabel('Principal Component 1', fontsize = 15)\n",
    "ax.set_ylabel('Principal Component 2', fontsize = 15)\n",
    "ax.set_title('2 component PCA', fontsize = 20)\n",
    "targets = ['a', 'b', 'c']\n",
    "colors = ['r', 'g', 'b', 'y', 'purple', 'aqua', 'olive']\n",
    "for target, color in zip(targets,colors):\n",
    "    indicesToKeep = finalDf['bakteria'] == target\n",
    "    ax.scatter(finalDf.loc[indicesToKeep, 'principal component 1']\n",
    "               , finalDf.loc[indicesToKeep, 'principal component 2']\n",
    "               , c = color\n",
    "               , s = 50)\n",
    "ax.legend(targets)\n",
    "ax.grid()"
   ]
  },
  {
   "cell_type": "code",
   "execution_count": null,
   "metadata": {},
   "outputs": [],
   "source": [
    "df = pd.read_csv('level_6_top50_heatmap.csv', sep='\\t') # top50 na danych normalizowanych"
   ]
  },
  {
   "cell_type": "code",
   "execution_count": null,
   "metadata": {},
   "outputs": [],
   "source": [
    "df.set_index('Unnamed: 0', inplace=True)"
   ]
  },
  {
   "cell_type": "code",
   "execution_count": null,
   "metadata": {
    "scrolled": false
   },
   "outputs": [],
   "source": [
    "sns.set(font_scale=2)\n",
    "sns.clustermap(df, metric='braycurtis', figsize=(50, 30), row_cluster=False, cbar_pos=(0, .2, .03, .4))"
   ]
  },
  {
   "cell_type": "code",
   "execution_count": null,
   "metadata": {},
   "outputs": [],
   "source": []
  },
  {
   "cell_type": "code",
   "execution_count": null,
   "metadata": {},
   "outputs": [],
   "source": []
  },
  {
   "cell_type": "code",
   "execution_count": null,
   "metadata": {},
   "outputs": [],
   "source": [
    "alfa_div = pd.read_csv('alfa_div_do_wykresu.csv', sep='\\t')"
   ]
  },
  {
   "cell_type": "code",
   "execution_count": null,
   "metadata": {},
   "outputs": [],
   "source": [
    "alfa_div"
   ]
  },
  {
   "cell_type": "code",
   "execution_count": null,
   "metadata": {
    "scrolled": true
   },
   "outputs": [],
   "source": [
    "sea = sns.FacetGrid(plot, col = \"Date\", height = 4)\n",
    "sea.map(sns.barplot, \"diet\", \"pulse\",)"
   ]
  },
  {
   "cell_type": "code",
   "execution_count": null,
   "metadata": {},
   "outputs": [],
   "source": []
  },
  {
   "cell_type": "code",
   "execution_count": null,
   "metadata": {},
   "outputs": [],
   "source": [
    "korelacja_bakterie = pd.read_csv('level_6_top50_do_korelacji.csv', sep=',')"
   ]
  },
  {
   "cell_type": "code",
   "execution_count": null,
   "metadata": {},
   "outputs": [],
   "source": [
    "korelacja_bakterie['PN'] = korelacja_bakterie['SOL PN'] + korelacja_bakterie['LB PN'] + korelacja_bakterie['TB PN']  \n",
    "korelacja_bakterie['PS'] = korelacja_bakterie['SOL PS'] + korelacja_bakterie['LB PS'] + korelacja_bakterie['TB PS']  \n",
    "korelacja_bakterie['PN+PS'] = korelacja_bakterie['PN'] + korelacja_bakterie['PS']"
   ]
  },
  {
   "cell_type": "code",
   "execution_count": null,
   "metadata": {},
   "outputs": [],
   "source": [
    "#features = ['weight', 'age', 'svi', 'x', 'temp', 'SOL PN', 'LB PN', 'TB PN', 'SOL PS', 'LB PS', 'TB PS', 'SOL TOC', 'LB TOC', 'TB TOC', 'SOL DOC', 'LB DOC', 'TB DOC', 'SOL POC', 'LB POC', 'TB POC']\n",
    "technologia = ['ALE', 'SRT', 'SVI', 'X', 'Temp.', 'CHZT', 'BZT5', 'N', 'NH4', 'P', 'OLR COD'] \n",
    "#EPS = ['SOL PN', 'LB PN', 'TB PN', 'SOL PS', 'LB PS', 'TB PS', 'SOL TOC', 'LB TOC', 'TB TOC', 'SOL DOC', 'LB DOC', 'TB DOC', 'SOL POC', 'LB POC', 'TB POC']\n",
    "EPS = ['PN', \"PS\"]\n",
    "bakterie = []\n",
    "for i in range(1,51):\n",
    "    bakterie.append(str(i))\n",
    "features = technologia + EPS + bakterie\n"
   ]
  },
  {
   "cell_type": "code",
   "execution_count": null,
   "metadata": {},
   "outputs": [],
   "source": [
    "korelacja_bakterie"
   ]
  },
  {
   "cell_type": "code",
   "execution_count": null,
   "metadata": {
    "scrolled": true
   },
   "outputs": [],
   "source": [
    "corr_matrix = korelacja_bakterie.loc[:,features].corr()\n",
    "print(corr_matrix)"
   ]
  },
  {
   "cell_type": "code",
   "execution_count": null,
   "metadata": {},
   "outputs": [],
   "source": [
    "#sns.set(rc = {'figure.figsize':(25, 25)})\n",
    "\n",
    "#sns.heatmap(corr_matrix, annot=True)"
   ]
  },
  {
   "cell_type": "code",
   "execution_count": null,
   "metadata": {},
   "outputs": [],
   "source": [
    "corr_matrix.to_csv('korelacja_50_do_PCA.csv', sep='\\t')"
   ]
  },
  {
   "cell_type": "code",
   "execution_count": null,
   "metadata": {},
   "outputs": [],
   "source": [
    "dane_do_pca = pd.read_csv('korelacja_50_do_PCA.csv', sep='\\t')"
   ]
  },
  {
   "cell_type": "code",
   "execution_count": null,
   "metadata": {
    "scrolled": true
   },
   "outputs": [],
   "source": [
    "dane_do_pca"
   ]
  },
  {
   "cell_type": "code",
   "execution_count": null,
   "metadata": {},
   "outputs": [],
   "source": [
    "#lista = technologia + EPS\n",
    "\n",
    "#for i in range(1,26):\n",
    "#    lista.append(str(i))\n",
    "    \n"
   ]
  },
  {
   "cell_type": "code",
   "execution_count": null,
   "metadata": {},
   "outputs": [],
   "source": [
    "from sklearn.preprocessing import StandardScaler"
   ]
  },
  {
   "cell_type": "code",
   "execution_count": null,
   "metadata": {},
   "outputs": [],
   "source": [
    "# Separating out the features\n",
    "\n",
    "\n",
    "x = dane_do_pca.loc[:,features].values# Separating out the target\n",
    "y = dane_do_pca.loc[:,['Unnamed: 0']].values# Standardizing the features\n",
    "x = StandardScaler().fit_transform(x)"
   ]
  },
  {
   "cell_type": "code",
   "execution_count": null,
   "metadata": {},
   "outputs": [],
   "source": [
    "from sklearn.decomposition import PCA\n",
    "pca = PCA(n_components=2)\n",
    "principalComponents = pca.fit_transform(x)\n",
    "principalDf = pd.DataFrame(data = principalComponents, columns = ['principal component 1', 'principal component 2'])"
   ]
  },
  {
   "cell_type": "code",
   "execution_count": null,
   "metadata": {},
   "outputs": [],
   "source": [
    "finalDf = pd.concat([principalDf, dane_do_pca[['Unnamed: 0']]], axis = 1)"
   ]
  },
  {
   "cell_type": "code",
   "execution_count": null,
   "metadata": {},
   "outputs": [],
   "source": [
    "finalDf"
   ]
  },
  {
   "cell_type": "code",
   "execution_count": null,
   "metadata": {},
   "outputs": [],
   "source": [
    "varpc1 = pca.explained_variance_[0]\n",
    "varpc1 = np.around(varpc1, 2)\n",
    "varpc2 = pca.explained_variance_[1]\n",
    "varpc2 = np.around(varpc2, 2)"
   ]
  },
  {
   "cell_type": "code",
   "execution_count": null,
   "metadata": {},
   "outputs": [],
   "source": [
    "print(pca.explained_variance_[0])"
   ]
  },
  {
   "cell_type": "code",
   "execution_count": null,
   "metadata": {},
   "outputs": [],
   "source": []
  },
  {
   "cell_type": "code",
   "execution_count": null,
   "metadata": {},
   "outputs": [],
   "source": []
  },
  {
   "cell_type": "code",
   "execution_count": null,
   "metadata": {},
   "outputs": [],
   "source": []
  },
  {
   "cell_type": "code",
   "execution_count": null,
   "metadata": {},
   "outputs": [],
   "source": [
    "import random\n",
    "get_colors = lambda n: [\"#%06x\" % random.randint(0, 0xFFFFFF) for _ in range(n)]"
   ]
  },
  {
   "cell_type": "code",
   "execution_count": null,
   "metadata": {},
   "outputs": [],
   "source": [
    "colors = get_colors(50)"
   ]
  },
  {
   "cell_type": "code",
   "execution_count": null,
   "metadata": {
    "scrolled": true
   },
   "outputs": [],
   "source": [
    "features"
   ]
  },
  {
   "cell_type": "code",
   "execution_count": null,
   "metadata": {},
   "outputs": [],
   "source": [
    "finalDf.set_index('Unnamed: 0', inplace = True)"
   ]
  },
  {
   "cell_type": "code",
   "execution_count": null,
   "metadata": {
    "scrolled": true
   },
   "outputs": [],
   "source": [
    "get_colors(10)\n"
   ]
  },
  {
   "cell_type": "code",
   "execution_count": null,
   "metadata": {},
   "outputs": [],
   "source": [
    "from matplotlib import pyplot as plt\n",
    "\n",
    "fig = plt.figure(figsize = (8,8))\n",
    "ax = fig.add_subplot(1,1,1) \n",
    "ax.set_xlabel('PC 1 (explained variance '+ str(varpc1)+')', fontsize = 15)\n",
    "ax.set_ylabel('PC 2 (explained variance '+ str(varpc2)+')', fontsize = 15)\n",
    "ax.set_title('2 component PCA', fontsize = 20)\n",
    "\n",
    "for target, color in zip(finalDf.index[0:13], colors):\n",
    "    #indicesToKeep = finalDf['Unnamed: 0'] == target\n",
    "    ax.scatter(finalDf.loc[target, 'principal component 1']\n",
    "               , finalDf.loc[target, 'principal component 2']\n",
    "               , c = '#000000'\n",
    "               , s = 100\n",
    "               , marker='^')\n",
    "    text = ax.text(finalDf.loc[target, 'principal component 1']+0.1, finalDf.loc[target, 'principal component 2']+0.1, target)\n",
    "x = 12 # ilosc paramaterow technologicznych - 1\n",
    "Actinobacteriota = [1+x, 8+x, 9+x, 12+x, 33+x, 42+x, 50+x]\n",
    "Chloroflexi = [2+x,7+x,13+x,19+x,20+x,23+x,25+x,31+x,43+x]\n",
    "Bacteroidota = [3+x, 5+x, 11+x, 27+x, 29+x, 40+x, 46+x]\n",
    "Proteobacteria = [4+x, 17+x, 18+x, 21+x, 22+x, 24+x, 30+x, 32+x, 34+x, 36+x, 39+x, 41+x, 44+x, 49+x]\n",
    "Patescibacteria = [6+x, 10+x, 37+x, 47+x]\n",
    "Myxococcota = [14+x, 16+x, 35+x]\n",
    "Gemmatimonadota = [15+x]\n",
    "Nitrospirota = [26+x]\n",
    "Firmicutes = [28+x]\n",
    "Acidobacteriota = [38+x, 48+x]\n",
    "Planctomycetota = [45+x]\n",
    "\n",
    "\n",
    "\n",
    "phylums = {\n",
    "    '#e69f00':Actinobacteriota,\n",
    "    '#56b4e9':Chloroflexi,\n",
    "    '#009e73':Bacteroidota,\n",
    "    '#f0e442':Proteobacteria,\n",
    "    '#332288':Patescibacteria,\n",
    "    '#d55e00':Myxococcota,\n",
    "    '#cc79a7':Gemmatimonadota,\n",
    "    '#4c5400':Nitrospirota,\n",
    "    '#a4b687':Firmicutes,\n",
    "    '#999933':Acidobacteriota,\n",
    "    '#8c3e85':Planctomycetota\n",
    "}\n",
    "\n",
    "for (kolor, phylum) in phylums.items():\n",
    "    for target in finalDf.index[phylum]:\n",
    "        ax.scatter(finalDf.loc[target, 'principal component 1']\n",
    "      , finalDf.loc[target, 'principal component 2']\n",
    "      , c = kolor\n",
    "      , s = 70\n",
    "      , marker='o')\n",
    "        if target == '26':\n",
    "            text = ax.text(finalDf.loc[target, 'principal component 1']+0.15, finalDf.loc[target, 'principal component 2'], target,\n",
    "                           ha='left', va='top')\n",
    "        elif target == '12':\n",
    "            text = ax.text(finalDf.loc[target, 'principal component 1'], finalDf.loc[target, 'principal component 2']-0.1, target,\n",
    "                           ha='right', va='top')\n",
    "        elif target == '25':\n",
    "            text = ax.text(finalDf.loc[target, 'principal component 1']-0.15, finalDf.loc[target, 'principal component 2'], target,\n",
    "                           ha='right', va='top')\n",
    "            \n",
    "        elif target == '3':\n",
    "            text = ax.text(finalDf.loc[target, 'principal component 1']+0.15, finalDf.loc[target, 'principal component 2'], target,\n",
    "                           ha='left', va='top')\n",
    "            \n",
    "        elif target == '19':\n",
    "            text = ax.text(finalDf.loc[target, 'principal component 1']-0.15, finalDf.loc[target, 'principal component 2'], target,\n",
    "                           ha='right', va='bottom')\n",
    "            \n",
    "        elif target == '42':\n",
    "            text = ax.text(finalDf.loc[target, 'principal component 1']+0.4, finalDf.loc[target, 'principal component 2']-0.2, target,\n",
    "                           ha='right', va='top')\n",
    "            \n",
    "        elif target == '36':\n",
    "            text = ax.text(finalDf.loc[target, 'principal component 1']+0.15, finalDf.loc[target, 'principal component 2'], target,\n",
    "                           ha='left', va='top')    \n",
    "        elif target == '29':\n",
    "            text = ax.text(finalDf.loc[target, 'principal component 1']+0.15, finalDf.loc[target, 'principal component 2'], target,\n",
    "                           ha='left', va='top')\n",
    "        elif target == '18':\n",
    "            text = ax.text(finalDf.loc[target, 'principal component 1']+0.15, finalDf.loc[target, 'principal component 2']-0.1, target,\n",
    "                           ha='left', va='top') \n",
    "        elif target == '39':\n",
    "            text = ax.text(finalDf.loc[target, 'principal component 1']-0.1, finalDf.loc[target, 'principal component 2'], target,\n",
    "                           ha='right', va='bottom') \n",
    "        elif target == '40':\n",
    "            text = ax.text(finalDf.loc[target, 'principal component 1']-0.1, finalDf.loc[target, 'principal component 2'], target,\n",
    "                           ha='right', va='bottom') \n",
    "        else:\n",
    "            text = ax.text(finalDf.loc[target, 'principal component 1']+0.1, finalDf.loc[target, 'principal component 2']+0.1, target)\n",
    "\n",
    "\n",
    "    \n",
    "plt.xlim([-10,10])\n",
    "plt.ylim([-8,8])\n",
    "    \n",
    "    \n",
    "    \n",
    "   # ax.legend(targets)\n",
    "ax.grid()"
   ]
  },
  {
   "cell_type": "code",
   "execution_count": null,
   "metadata": {},
   "outputs": [],
   "source": [
    "import plotly.express as px\n",
    "from sklearn.decomposition import PCA\n",
    "from sklearn import datasets\n",
    "from sklearn.preprocessing import StandardScaler\n",
    "import numpy as np\n",
    "\n",
    "df = dane_do_pca\n",
    "features = technologia + EPS + bakterie\n",
    "X = x\n",
    " \n",
    "\n",
    "pca = PCA(n_components=2)\n",
    "components = pca.fit_transform(X)\n",
    "\n",
    "loadings = pca.components_.T * np.sqrt(pca.explained_variance_)\n",
    "\n"
   ]
  },
  {
   "cell_type": "code",
   "execution_count": null,
   "metadata": {
    "scrolled": true
   },
   "outputs": [],
   "source": [
    "\n",
    "fig = px.scatter(components, x=0, y=1, text=dane_do_pca['Unnamed: 0'], color=dane_do_pca['Unnamed: 0'])\n",
    "fig.show()"
   ]
  },
  {
   "cell_type": "code",
   "execution_count": null,
   "metadata": {},
   "outputs": [],
   "source": [
    "fig = px.scatter(components, x=0, y=1, text=dane_do_pca['Unnamed: 0'], color=dane_do_pca['Unnamed: 0'])\n",
    "\n",
    "for i, feature in enumerate(technologia):\n",
    "    fig.add_annotation(\n",
    "        ax=0, ay=0,\n",
    "        axref=\"x\", ayref=\"y\",\n",
    "        x=loadings[i, 0],\n",
    "        y=loadings[i, 1],\n",
    "        showarrow=True,\n",
    "        arrowsize=1,\n",
    "        arrowhead=1,\n",
    "        xanchor=\"center\",\n",
    "        yanchor=\"top\"\n",
    "    )\n",
    "    fig.add_annotation(\n",
    "        x=loadings[i, 0],\n",
    "        y=loadings[i, 1],\n",
    "        ax=0, ay=0,\n",
    "        xanchor=\"center\",\n",
    "        yanchor=\"bottom\",\n",
    "        text=feature,\n",
    "        yshift=5,\n",
    "    )\n",
    "fig.show()"
   ]
  },
  {
   "cell_type": "code",
   "execution_count": null,
   "metadata": {},
   "outputs": [],
   "source": [
    "total_var = pca.explained_variance_ratio_.sum() * 100\n",
    "total_var"
   ]
  },
  {
   "cell_type": "code",
   "execution_count": null,
   "metadata": {},
   "outputs": [],
   "source": [
    "\n",
    "df = pd.DataFrame(dane_do_pca, columns=features)\n",
    "\n",
    "pca = PCA()\n",
    "pca.fit(df)\n",
    "\n",
    "exp_var_cumul = np.cumsum(pca.explained_variance_ratio_)\n",
    "\n",
    "px.area(\n",
    "    x=range(1, exp_var_cumul.shape[0] + 1),\n",
    "    y=exp_var_cumul,\n",
    "    labels={\"x\": \"# Components\", \"y\": \"Explained Variance\"}\n",
    ")"
   ]
  },
  {
   "cell_type": "code",
   "execution_count": null,
   "metadata": {},
   "outputs": [],
   "source": [
    "pca = PCA(n_components=3)\n",
    "components = pca.fit_transform(X)\n",
    "\n",
    "total_var = pca.explained_variance_ratio_.sum() * 100\n",
    "\n",
    "fig = px.scatter_3d(\n",
    "    components, x=0, y=1, z=2, color=dane_do_pca['Unnamed: 0'],\n",
    "    title=f'Total Explained Variance: {total_var:.2f}%',\n",
    "    labels={'0': 'PC 1', '1': 'PC 2', '2': 'PC 3'}\n",
    ")\n",
    "fig.show()"
   ]
  },
  {
   "cell_type": "code",
   "execution_count": null,
   "metadata": {},
   "outputs": [],
   "source": [
    "from scipy.spatial.distance import braycurtis\n",
    "import itertools\n",
    "from scipy.spatial.distance import squareform\n",
    "\n",
    "X = np.array(x)\n",
    "n_samples = X.shape[0]\n",
    "n_distance = n_samples * (n_samples - 1) / 2\n",
    "d_array = np.zeros((int(n_distance)))\n",
    "for i, (idx1, idx2) in enumerate(itertools.combinations(range(n_samples),2)):\n",
    "    d_array[i] = braycurtis(X[idx1], X[idx2])  \n",
    "\n",
    "braycurtis = squareform(d_array)"
   ]
  },
  {
   "cell_type": "code",
   "execution_count": null,
   "metadata": {},
   "outputs": [],
   "source": [
    "# execute PCoA\n",
    "\n",
    "from sklearn import manifold\n",
    "mds = manifold.MDS(n_components=2, max_iter=3000, dissimilarity=\"precomputed\", n_jobs=1)\n",
    "positions = mds.fit(braycurtis.T).embedding_\n",
    "#positions_with_sampleIndex = pd.DataFrame(positions, index=data.columns)"
   ]
  },
  {
   "cell_type": "code",
   "execution_count": null,
   "metadata": {},
   "outputs": [],
   "source": [
    "fig = px.scatter(positions, x=0, y=1, text=dane_do_pca['Unnamed: 0'], color=dane_do_pca['Unnamed: 0'])"
   ]
  },
  {
   "cell_type": "code",
   "execution_count": null,
   "metadata": {},
   "outputs": [],
   "source": [
    "fig"
   ]
  },
  {
   "cell_type": "code",
   "execution_count": null,
   "metadata": {},
   "outputs": [],
   "source": []
  },
  {
   "cell_type": "code",
   "execution_count": null,
   "metadata": {},
   "outputs": [],
   "source": [
    "top50dokorelacji = pd.read_csv('level_7.tsv', sep='\\t')"
   ]
  },
  {
   "cell_type": "code",
   "execution_count": null,
   "metadata": {},
   "outputs": [],
   "source": [
    "top50dokorelacji.dtypes"
   ]
  },
  {
   "cell_type": "code",
   "execution_count": null,
   "metadata": {},
   "outputs": [],
   "source": [
    "top50dokorelacji = top50dokorelacji.drop(columns='suma')"
   ]
  },
  {
   "cell_type": "code",
   "execution_count": null,
   "metadata": {
    "scrolled": true
   },
   "outputs": [],
   "source": [
    "corr_matrix = top50dokorelacji.corr()\n",
    "print(corr_matrix)"
   ]
  },
  {
   "cell_type": "code",
   "execution_count": null,
   "metadata": {},
   "outputs": [],
   "source": []
  },
  {
   "cell_type": "code",
   "execution_count": null,
   "metadata": {},
   "outputs": [],
   "source": [
    "corr_matrix = corr_matrix.dropna(axis=1, how='all')\n",
    "corr_matrix = corr_matrix.dropna(axis=0, how='all')"
   ]
  },
  {
   "cell_type": "code",
   "execution_count": null,
   "metadata": {},
   "outputs": [],
   "source": [
    "corr_matrix.to_csv('level7_pokorelacji.csv', sep='\\t', index=False)"
   ]
  },
  {
   "cell_type": "code",
   "execution_count": null,
   "metadata": {},
   "outputs": [],
   "source": []
  },
  {
   "cell_type": "code",
   "execution_count": null,
   "metadata": {},
   "outputs": [],
   "source": []
  },
  {
   "cell_type": "code",
   "execution_count": null,
   "metadata": {},
   "outputs": [],
   "source": []
  },
  {
   "cell_type": "markdown",
   "metadata": {},
   "source": [
    "# PCA NA DANYCH SUROWYCH, NIE NA KORELACJI"
   ]
  },
  {
   "cell_type": "code",
   "execution_count": null,
   "metadata": {},
   "outputs": [],
   "source": [
    "from sklearn.preprocessing import StandardScaler\n"
   ]
  },
  {
   "cell_type": "code",
   "execution_count": null,
   "metadata": {},
   "outputs": [],
   "source": [
    "dane_do_pca = korelacja_bakterie.T"
   ]
  },
  {
   "cell_type": "code",
   "execution_count": null,
   "metadata": {},
   "outputs": [],
   "source": [
    "dane_do_pca"
   ]
  },
  {
   "cell_type": "code",
   "execution_count": null,
   "metadata": {},
   "outputs": [],
   "source": [
    "import scipy.cluster.hierarchy as sch"
   ]
  },
  {
   "cell_type": "code",
   "execution_count": null,
   "metadata": {},
   "outputs": [],
   "source": [
    "dane_do_dendro = dane_do_pca.reset_index()"
   ]
  },
  {
   "cell_type": "code",
   "execution_count": null,
   "metadata": {},
   "outputs": [],
   "source": [
    "dane_do_dendro.drop('index', axis=1, inplace=True)\n",
    "dane_do_dendro.drop([0], axis=0, inplace=True)"
   ]
  },
  {
   "cell_type": "code",
   "execution_count": null,
   "metadata": {
    "scrolled": true
   },
   "outputs": [],
   "source": [
    "plt.figure(figsize=(10,50)) \n",
    "\n",
    "dendrogram= sch.dendrogram(sch.linkage(dane_do_dendro, method='ward'))\n"
   ]
  },
  {
   "cell_type": "code",
   "execution_count": null,
   "metadata": {},
   "outputs": [],
   "source": [
    "# ^^ czy to jest grudzień, dlaczego nie klustruje się z reszta? czy warto\n",
    "# zawracać sobie nim głowę, skoro w sumie i tak miesiące klastrują się\n",
    "# nie tak jakbym chciał (zimne z ciepłymi)\n",
    "# to znaczy, że może to nie temperatura ma największy wpływ na kompozycję. A WIĘC CO?\n",
    "# P, SVI ??"
   ]
  },
  {
   "cell_type": "code",
   "execution_count": null,
   "metadata": {},
   "outputs": [],
   "source": [
    "#features = ['weight', 'age', 'svi', 'x', 'temp', 'SOL PN', 'LB PN', 'TB PN', 'SOL PS', 'LB PS', 'TB PS', 'SOL TOC', 'LB TOC', 'TB TOC', 'SOL DOC', 'LB DOC', 'TB DOC', 'SOL POC', 'LB POC', 'TB POC']\n",
    "#oryginalnie: \n",
    "#technologia = ['ALE', 'SRT', 'SVI', 'X', 'Temp.', 'CHZT', 'BZT5', 'N', 'NH4', 'P', 'OLR COD'] \n",
    "\n",
    "#eksperymenty:\n",
    "technologia = ['ALE', 'SRT', 'SVI', 'X', 'Temp.', 'CHZT', 'BZT5', 'N', 'NH4', 'P', 'OLR COD'] \n",
    "\n",
    "#EPS = ['SOL PN', 'LB PN', 'TB PN', 'SOL PS', 'LB PS', 'TB PS', 'SOL TOC', 'LB TOC', 'TB TOC', 'SOL DOC', 'LB DOC', 'TB DOC', 'SOL POC', 'LB POC', 'TB POC']\n",
    "EPS = ['PN', \"PS\"]\n",
    "bakterie = []\n",
    "for i in range(1,51):\n",
    "    bakterie.append(str(i))\n",
    "features = technologia + EPS + bakterie"
   ]
  },
  {
   "cell_type": "code",
   "execution_count": null,
   "metadata": {},
   "outputs": [],
   "source": [
    "dane_do_pca.reset_index(inplace=True)"
   ]
  },
  {
   "cell_type": "code",
   "execution_count": null,
   "metadata": {},
   "outputs": [],
   "source": [
    "dane_do_pca"
   ]
  },
  {
   "cell_type": "code",
   "execution_count": null,
   "metadata": {},
   "outputs": [],
   "source": [
    "dane_do_pca.drop([0], axis=0, inplace=True)"
   ]
  },
  {
   "cell_type": "code",
   "execution_count": null,
   "metadata": {
    "scrolled": true
   },
   "outputs": [],
   "source": [
    "dane_do_pca"
   ]
  },
  {
   "cell_type": "code",
   "execution_count": null,
   "metadata": {},
   "outputs": [],
   "source": [
    "# Separating out the features\n",
    "\n",
    "\n",
    "x = dane_do_pca.loc[features:,].values# Separating out the target\n",
    "y = dane_do_pca.loc[:,['index']].values# Standardizing the features\n",
    "#x = StandardScaler().fit_transform(x)"
   ]
  },
  {
   "cell_type": "code",
   "execution_count": null,
   "metadata": {},
   "outputs": [],
   "source": [
    "y"
   ]
  },
  {
   "cell_type": "code",
   "execution_count": null,
   "metadata": {},
   "outputs": [],
   "source": [
    "from sklearn.decomposition import PCA\n",
    "pca = PCA(n_components=2)\n",
    "principalComponents = pca.fit_transform(x)\n",
    "principalDf = pd.DataFrame(data = principalComponents, columns = ['principal component 1', 'principal component 2'])"
   ]
  },
  {
   "cell_type": "code",
   "execution_count": null,
   "metadata": {},
   "outputs": [],
   "source": [
    "finalDf = pd.concat([principalDf, dane_do_pca[['okres']]], axis = 1)"
   ]
  },
  {
   "cell_type": "code",
   "execution_count": null,
   "metadata": {},
   "outputs": [],
   "source": [
    "finalDf"
   ]
  },
  {
   "cell_type": "code",
   "execution_count": null,
   "metadata": {},
   "outputs": [],
   "source": [
    "varpc1 = pca.explained_variance_[0]\n",
    "varpc1 = np.around(varpc1, 2)\n",
    "varpc2 = pca.explained_variance_[1]\n",
    "varpc2 = np.around(varpc2, 2)"
   ]
  },
  {
   "cell_type": "code",
   "execution_count": null,
   "metadata": {},
   "outputs": [],
   "source": [
    "print(pca.explained_variance_[0])"
   ]
  },
  {
   "cell_type": "code",
   "execution_count": null,
   "metadata": {},
   "outputs": [],
   "source": [
    "print(pca.explained_variance_[1])"
   ]
  },
  {
   "cell_type": "code",
   "execution_count": null,
   "metadata": {},
   "outputs": [],
   "source": []
  },
  {
   "cell_type": "code",
   "execution_count": null,
   "metadata": {},
   "outputs": [],
   "source": [
    "import random\n",
    "get_colors = lambda n: [\"#%06x\" % random.randint(0, 0xFFFFFF) for _ in range(n)]"
   ]
  },
  {
   "cell_type": "code",
   "execution_count": null,
   "metadata": {},
   "outputs": [],
   "source": [
    "colors = get_colors(50)"
   ]
  },
  {
   "cell_type": "code",
   "execution_count": null,
   "metadata": {
    "scrolled": true
   },
   "outputs": [],
   "source": [
    "features"
   ]
  },
  {
   "cell_type": "code",
   "execution_count": null,
   "metadata": {},
   "outputs": [],
   "source": []
  },
  {
   "cell_type": "code",
   "execution_count": null,
   "metadata": {},
   "outputs": [],
   "source": [
    "finalDf"
   ]
  },
  {
   "cell_type": "code",
   "execution_count": null,
   "metadata": {},
   "outputs": [],
   "source": [
    "finalDf.set_index('okres', inplace = True)"
   ]
  },
  {
   "cell_type": "code",
   "execution_count": null,
   "metadata": {
    "scrolled": true
   },
   "outputs": [],
   "source": [
    "get_colors(10)\n"
   ]
  },
  {
   "cell_type": "code",
   "execution_count": null,
   "metadata": {},
   "outputs": [],
   "source": [
    "from matplotlib import pyplot as plt\n",
    "\n",
    "fig = plt.figure(figsize = (8,8))\n",
    "ax = fig.add_subplot(1,1,1) \n",
    "ax.set_xlabel('PC 1 (explained variance '+ str(varpc1)+')', fontsize = 15)\n",
    "ax.set_ylabel('PC 2 (explained variance '+ str(varpc2)+')', fontsize = 15)\n",
    "ax.set_title('2 component PCA', fontsize = 20)\n",
    "\n",
    "for target, color in zip(finalDf.index[0:13], colors):\n",
    "    #indicesToKeep = finalDf['Unnamed: 0'] == target\n",
    "    ax.scatter(finalDf.loc[target, 'principal component 1']\n",
    "               , finalDf.loc[target, 'principal component 2']\n",
    "               , c = '#000000'\n",
    "               , s = 100\n",
    "               , marker='^')\n",
    "    text = ax.text(finalDf.loc[target, 'principal component 1']+0.1, finalDf.loc[target, 'principal component 2']+0.1, target)\n",
    "x = 12 # ilosc paramaterow technologicznych - 1\n",
    "Actinobacteriota = [1+x, 8+x, 9+x, 12+x, 33+x, 42+x, 50+x]\n",
    "Chloroflexi = [2+x,7+x,13+x,19+x,20+x,23+x,25+x,31+x,43+x]\n",
    "Bacteroidota = [3+x, 5+x, 11+x, 27+x, 29+x, 40+x, 46+x]\n",
    "Proteobacteria = [4+x, 17+x, 18+x, 21+x, 22+x, 24+x, 30+x, 32+x, 34+x, 36+x, 39+x, 41+x, 44+x, 49+x]\n",
    "Patescibacteria = [6+x, 10+x, 37+x, 47+x]\n",
    "Myxococcota = [14+x, 16+x, 35+x]\n",
    "Gemmatimonadota = [15+x]\n",
    "Nitrospirota = [26+x]\n",
    "Firmicutes = [28+x]\n",
    "Acidobacteriota = [38+x, 48+x]\n",
    "Planctomycetota = [45+x]\n",
    "\n",
    "\n",
    "\n",
    "phylums = {\n",
    "    '#e69f00':Actinobacteriota,\n",
    "    '#56b4e9':Chloroflexi,\n",
    "    '#009e73':Bacteroidota,\n",
    "    '#f0e442':Proteobacteria,\n",
    "    '#332288':Patescibacteria,\n",
    "    '#d55e00':Myxococcota,\n",
    "    '#cc79a7':Gemmatimonadota,\n",
    "    '#4c5400':Nitrospirota,\n",
    "    '#a4b687':Firmicutes,\n",
    "    '#999933':Acidobacteriota,\n",
    "    '#8c3e85':Planctomycetota\n",
    "}\n",
    "\n",
    "for (kolor, phylum) in phylums.items():\n",
    "    for target in finalDf.index[phylum]:\n",
    "        ax.scatter(finalDf.loc[target, 'principal component 1']\n",
    "      , finalDf.loc[target, 'principal component 2']\n",
    "      , c = kolor\n",
    "      , s = 70\n",
    "      , marker='o')\n",
    "        if target == '26':\n",
    "            text = ax.text(finalDf.loc[target, 'principal component 1']+0.15, finalDf.loc[target, 'principal component 2'], target,\n",
    "                           ha='left', va='top')\n",
    "        elif target == '12':\n",
    "            text = ax.text(finalDf.loc[target, 'principal component 1'], finalDf.loc[target, 'principal component 2']-0.1, target,\n",
    "                           ha='right', va='top')\n",
    "        elif target == '25':\n",
    "            text = ax.text(finalDf.loc[target, 'principal component 1']-0.15, finalDf.loc[target, 'principal component 2'], target,\n",
    "                           ha='right', va='top')\n",
    "            \n",
    "        elif target == '3':\n",
    "            text = ax.text(finalDf.loc[target, 'principal component 1']+0.15, finalDf.loc[target, 'principal component 2'], target,\n",
    "                           ha='left', va='top')\n",
    "            \n",
    "        elif target == '19':\n",
    "            text = ax.text(finalDf.loc[target, 'principal component 1']-0.15, finalDf.loc[target, 'principal component 2'], target,\n",
    "                           ha='right', va='bottom')\n",
    "            \n",
    "        elif target == '42':\n",
    "            text = ax.text(finalDf.loc[target, 'principal component 1']+0.4, finalDf.loc[target, 'principal component 2']-0.2, target,\n",
    "                           ha='right', va='top')\n",
    "            \n",
    "        elif target == '36':\n",
    "            text = ax.text(finalDf.loc[target, 'principal component 1']+0.15, finalDf.loc[target, 'principal component 2'], target,\n",
    "                           ha='left', va='top')    \n",
    "        elif target == '29':\n",
    "            text = ax.text(finalDf.loc[target, 'principal component 1']+0.15, finalDf.loc[target, 'principal component 2'], target,\n",
    "                           ha='left', va='top')\n",
    "        elif target == '18':\n",
    "            text = ax.text(finalDf.loc[target, 'principal component 1']+0.15, finalDf.loc[target, 'principal component 2']-0.1, target,\n",
    "                           ha='left', va='top') \n",
    "        elif target == '39':\n",
    "            text = ax.text(finalDf.loc[target, 'principal component 1']-0.1, finalDf.loc[target, 'principal component 2'], target,\n",
    "                           ha='right', va='bottom') \n",
    "        elif target == '40':\n",
    "            text = ax.text(finalDf.loc[target, 'principal component 1']-0.1, finalDf.loc[target, 'principal component 2'], target,\n",
    "                           ha='right', va='bottom') \n",
    "        else:\n",
    "            text = ax.text(finalDf.loc[target, 'principal component 1']+0.1, finalDf.loc[target, 'principal component 2']+0.1, target)\n",
    "\n",
    "\n",
    "    \n",
    "plt.xlim([-10,10])\n",
    "plt.ylim([-8,8])\n",
    "    \n",
    "    \n",
    "    \n",
    "   # ax.legend(targets)\n",
    "ax.grid()"
   ]
  },
  {
   "cell_type": "code",
   "execution_count": null,
   "metadata": {},
   "outputs": [],
   "source": []
  },
  {
   "cell_type": "code",
   "execution_count": null,
   "metadata": {},
   "outputs": [],
   "source": []
  },
  {
   "cell_type": "code",
   "execution_count": null,
   "metadata": {},
   "outputs": [],
   "source": []
  },
  {
   "cell_type": "code",
   "execution_count": null,
   "metadata": {},
   "outputs": [],
   "source": []
  },
  {
   "cell_type": "code",
   "execution_count": null,
   "metadata": {},
   "outputs": [],
   "source": []
  },
  {
   "cell_type": "code",
   "execution_count": null,
   "metadata": {},
   "outputs": [],
   "source": []
  },
  {
   "cell_type": "code",
   "execution_count": null,
   "metadata": {},
   "outputs": [],
   "source": []
  },
  {
   "cell_type": "code",
   "execution_count": null,
   "metadata": {},
   "outputs": [],
   "source": []
  },
  {
   "cell_type": "code",
   "execution_count": null,
   "metadata": {},
   "outputs": [],
   "source": []
  },
  {
   "cell_type": "code",
   "execution_count": null,
   "metadata": {},
   "outputs": [],
   "source": []
  },
  {
   "cell_type": "code",
   "execution_count": null,
   "metadata": {},
   "outputs": [],
   "source": []
  },
  {
   "cell_type": "code",
   "execution_count": null,
   "metadata": {},
   "outputs": [],
   "source": []
  },
  {
   "cell_type": "code",
   "execution_count": null,
   "metadata": {},
   "outputs": [],
   "source": []
  }
 ],
 "metadata": {
  "kernelspec": {
   "display_name": "Python 3",
   "language": "python",
   "name": "python3"
  },
  "language_info": {
   "codemirror_mode": {
    "name": "ipython",
    "version": 3
   },
   "file_extension": ".py",
   "mimetype": "text/x-python",
   "name": "python",
   "nbconvert_exporter": "python",
   "pygments_lexer": "ipython3",
   "version": "3.7.8"
  }
 },
 "nbformat": 4,
 "nbformat_minor": 4
}
