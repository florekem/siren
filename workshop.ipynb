{
 "cells": [
  {
   "cell_type": "markdown",
   "metadata": {},
   "source": [
    "# Welcome to the short tutorial on the analysis and visualization of microbiological data using QIIME 2 and Python!"
   ]
  },
  {
   "cell_type": "markdown",
   "metadata": {},
   "source": [
    "# Step 1\n",
    "### Load required packages:\n",
    "\n",
    "### Select the ***Cell*** below (it will highligh in **blue or green** nad press ***Run*** (if unsure please refer to the Manual)\n",
    "\n",
    "### Yuo can also run the ***Cell*** using keyboard: first highlight the ***Cell***, hold **Ctrl** and press **Enter** (Ctrl + Enter)\n",
    "\n",
    "### If everything is working 'Packages loaded' will appear in the output:\n",
    "\n",
    "<a href=\"https://i.imgur.com/Ip1AU12.gif[/img]\"><img src=\"https://i.imgur.com/Ip1AU12.gif\" alt=\"drawing\" width=\"300\"/></a>\n",
    "Click to enlarge"
   ]
  },
  {
   "cell_type": "code",
   "execution_count": 1,
   "metadata": {},
   "outputs": [
    {
     "name": "stdout",
     "output_type": "stream",
     "text": [
      ">>> Packages loaded <<<\n"
     ]
    }
   ],
   "source": [
    "import pandas as pd\n",
    "import numpy as np\n",
    "from skbio.diversity import alpha_diversity\n",
    "from skbio.diversity import get_alpha_diversity_metrics\n",
    "import seaborn as sns\n",
    "import matplotlib.pyplot as plt\n",
    "import plotly.express as px\n",
    "\n",
    "your_number='05'\n",
    "\n",
    "print('>>> Packages loaded <<<')"
   ]
  },
  {
   "cell_type": "markdown",
   "metadata": {},
   "source": [
    "### Lets start by taking a look at sequencing output.\n",
    "Again, highlight the cell below and run it!"
   ]
  },
  {
   "cell_type": "code",
   "execution_count": 2,
   "metadata": {
    "scrolled": true
   },
   "outputs": [
    {
     "name": "stdout",
     "output_type": "stream",
     "text": [
      "10k-V3-02-22-R24_11_L001_R1_001.fastq.gz\r\n",
      "10k-V3-02-22-R24_28_L001_R2_001.fastq.gz\r\n",
      "10k-V3-05-22-R23_10_L001_R1_001.fastq.gz\r\n",
      "10k-V3-05-22-R23_27_L001_R2_001.fastq.gz\r\n",
      "10k-V3-07-21-R23_0_L001_R1_001.fastq.gz\r\n",
      "10k-V3-07-21-R23_17_L001_R2_001.fastq.gz\r\n"
     ]
    }
   ],
   "source": [
    "!ls ../../fastq/"
   ]
  },
  {
   "cell_type": "markdown",
   "metadata": {},
   "source": [
    "# Step 2\n",
    "### Import the sequence data to QIIME2\n",
    "\n",
    "\n",
    "#### Now we will begin the analysis using QIMME2 software. \n",
    "\n",
    "QIIME 2 is a powerful, extensible, and decentralized microbiome analysis package with a focus on data and analysis transparency. QIIME 2 enables researchers to start an analysis with raw DNA sequence data and finish with publication-quality figures and statistical results.\n",
    "\n",
    "Key features:\n",
    "\n",
    "    Integrated and automatic tracking of data provenance\n",
    "\n",
    "    Semantic type system\n",
    "\n",
    "    Plugin system for extending microbiome analysis functionality\n",
    "\n",
    "    Support for multiple types of user interfaces (e.g. API, command line, graphical)\n",
    "\n",
    "\n"
   ]
  },
  {
   "cell_type": "markdown",
   "metadata": {},
   "source": [
    "#### Data produced by QIIME 2 exist as QIIME 2 artifacts. A QIIME 2 artifact contains data and metadata. The metadata describes things about the data, such as its type, format, and how it was generated (provenance). A QIIME 2 artifact typically has the .qza file extension when stored in a file."
   ]
  },
  {
   "cell_type": "markdown",
   "metadata": {},
   "source": [
    "### We need to import the sequences stored as fastq files into a QIIME 2 artifact using the \"qiime tools import plugin\".\n",
    "\n",
    "### Run the cell below.\n"
   ]
  },
  {
   "cell_type": "code",
   "execution_count": 3,
   "metadata": {
    "scrolled": true
   },
   "outputs": [
    {
     "name": "stdout",
     "output_type": "stream",
     "text": [
      "warning: commands will be executed using /bin/sh\n",
      "job 303 at Fri Jan 26 09:59:00 2024\n",
      ">>> finished <<<\n",
      ">>> Files has been imported. Your project is now saved as demux-paired-end.qza<<<\n"
     ]
    }
   ],
   "source": [
    "!qiime tools import \\\n",
    "  --input-path ../../fastq/ \\\n",
    "  --type 'SampleData[PairedEndSequencesWithQuality]' \\\n",
    "  --input-format CasavaOneEightSingleLanePerSampleDirFmt \\\n",
    "  --output-path demux-paired-end_{your_number}.qza | batch\n",
    "\n",
    "print('>>> finished <<<')\n",
    "print('>>> Files has been imported. Your project is now saved as demux-paired-end.qza<<<')"
   ]
  },
  {
   "cell_type": "markdown",
   "metadata": {},
   "source": [
    "### Now please switch your brwser tab to ***\"Home Page\"*** tab. Can you see the file you have just created?"
   ]
  },
  {
   "cell_type": "markdown",
   "metadata": {},
   "source": [
    "# Step 3\n",
    "\n",
    "## Step 3.1 \n",
    "\n",
    "### Generate a visualization file to examine the sequence quality\n",
    "\n",
    "You will get the file with a .qza extension, which is internal file used by qiime2 and is not accesible to us.\n",
    "\n",
    "After importing the demultiplex sequence data into an artifact, we will generate a summary with the plugin\n",
    "**qiime demux summarize**. This summary provides us with visual information of the distribution of sequence\n",
    "qualities at each position in the sequence data for the next step of the pipeline. The sequence qualities\n",
    "inform the choices for some of the sequence-processing parameters, such as the truncation parameters\n",
    "of the DADA2 denoising step. This summary also tells us about how many sequences were obtained per\n",
    "sample.\n",
    "\n",
    "\n",
    "#### To convert .qza file into .qzv file, please run the cell below."
   ]
  },
  {
   "cell_type": "code",
   "execution_count": 4,
   "metadata": {
    "scrolled": true
   },
   "outputs": [
    {
     "name": "stdout",
     "output_type": "stream",
     "text": [
      "warning: commands will be executed using /bin/sh\n",
      "job 304 at Fri Jan 26 09:59:00 2024\n",
      "\n",
      "real\t0m39,172s\n",
      "user\t0m39,472s\n",
      "sys\t0m2,112s\n",
      ">>> finished <<<\n",
      ">>> You have successfully converted .qza to .qzv file! <<<\n"
     ]
    }
   ],
   "source": [
    "!time qiime demux summarize \\\n",
    "--i-data demux-paired-end_{your_number}.qza \\\n",
    "--o-visualization demux-paired-end_{your_number}.qzv | batch\n",
    "\n",
    "\n",
    "print('>>> finished <<<')\n",
    "print('>>> You have successfully converted .qza to .qzv file! <<<')"
   ]
  },
  {
   "cell_type": "markdown",
   "metadata": {},
   "source": [
    "## Step 3.2\n",
    "\n",
    "### Now you have your .qzv file, which can be viewed using qiime2 website.\n",
    "\n",
    "\n",
    "To do it, please follow the steps below:\n",
    "\n",
    "1. Switch your browser tab from notebook to the Home Page (Broser tab named: Home Page - select or create a notebook).\n",
    "2. Select and download the demux-paired-end_{your_number}.qzv file to your computer.\n",
    "3. Go to https://view.qiime2.org/ (click to open in a new tab)\n",
    "4. Upload your file by clicing on a gray box and selecting .qzv file from your computer.\n",
    "\n",
    "<a href=\"https://i.imgur.com/nDVgjsI.gif\"><img src=\"https://i.imgur.com/nDVgjsI.gif\" alt=\"drawing\" width=\"300\"/></a>\n",
    "Click to enlarge\n",
    "\n",
    "\n"
   ]
  },
  {
   "cell_type": "markdown",
   "metadata": {},
   "source": [
    "# Step 4\n",
    "## Denoise sequences, selecting sequence variants and feature table construction\n",
    "\n",
    "QIIME 2 offers Illumina sequence denoising via **DADA2** among others. \n",
    "\n",
    "**DADA2** is an accurate, high-resolution sample inference from amplicon sequencing data.\n",
    "\n",
    "\n",
    "The DADA2 package infers exact **amplicon sequence variants (ASVs)** from\n",
    "high-throughput amplicon sequencing data, replacing the coarser and less accurate\n",
    "**OTU** clustering approach (e.g. Mothur). The dada2 pipeline takes as input demultiplexed fastq\n",
    "files, and outputs the sequence variants and their sample-wise abundances after\n",
    "removing substitution and chimera errors.\n",
    "\n",
    "\n",
    "\n",
    "\n",
    "\n",
    "\n",
    "\n",
    "For this procedure\n",
    "we will use the **dada2 denoise-paired** QIIME2 plugin, which will both **merge** and **denoise** paired-end reads.\n",
    "This method will also allow us to **remove the low-quality regions** of the sequences. Additionally, it also allows us to **remove our adapters** in the sequences before denoising. DADA2 requires the adapters to be removed to prevent\n",
    "false positive detection of chimeras as a result of degeneracy in the adapters.\n",
    "\n",
    "\n",
    "The DADA2 denoise-paired method requires four parameters:\n",
    "\n",
    "    --p-trunc-len-f n truncates each forward read sequence at position n\n",
    "    --p-trunc-len-r n truncates each reverse read sequence at position n\n",
    "    --p-trim-left-f m trims off the first m bases of each forward read sequence\n",
    "    --p-trim-left-r m trims off the first m bases of each reverse read sequence\n",
    "\n",
    "\n",
    "To determine what values to use for these parameters, we need to look at the Interactive Quality Plot tab\n",
    "in the demux-paired-end.qzv file that was generated by **qiime demux summarize**.\n",
    "\n",
    "When viewing the quality plot look for the point in the forward and reverse reads where **quality scores\n",
    "decline below 25-30**. We will need to trim reads around this point to create high quality sequence variants.\n",
    "\n",
    "\n",
    "Also, we will be removing the adapter sequences. We will set the optional --p-trim-left-f and --p-trim-left-r parameters to the length of the primer sequences to remove them before denoising."
   ]
  },
  {
   "cell_type": "markdown",
   "metadata": {},
   "source": [
    "### Before running the cell below, please replace n's and m's!"
   ]
  },
  {
   "cell_type": "code",
   "execution_count": 10,
   "metadata": {},
   "outputs": [
    {
     "name": "stdout",
     "output_type": "stream",
     "text": [
      "warning: commands will be executed using /bin/sh\n",
      "job 351 at Fri Jan 26 10:20:00 2024\n",
      "\n",
      "real\t0m53,658s\n",
      "user\t0m53,473s\n",
      "sys\t0m1,977s\n",
      ">>> finished <<<\n",
      "Your reads are now trimmed, truncaded and denoised!\n"
     ]
    }
   ],
   "source": [
    "!time qiime dada2 denoise-paired \\\n",
    "--i-demultiplexed-seqs demux-paired-end_{your_number}.qza \\\n",
    "--p-trunc-len-f 240 \\\n",
    "--p-trunc-len-r 215 \\\n",
    "--p-trim-left-f 10 \\\n",
    "--p-trim-left-r 10 \\\n",
    "--o-representative-sequences rep-seqs_{your_number}.qza \\\n",
    "--o-table table_{your_number}.qza \\\n",
    "--o-denoising-stats stats_{your_number}.qza \\\n",
    "--p-n-threads 1 | batch\n",
    "\n",
    "print('>>> finished <<<')\n",
    "print('Your reads are now trimmed, truncaded and denoised!')"
   ]
  },
  {
   "cell_type": "markdown",
   "metadata": {},
   "source": [
    "# Step 5.1\n",
    "## Converting stats.qza to .qzv\n",
    "\n",
    "### By convering stats.qza to .qzv we will be able to observe statistics of Step 4. Again, we need to convert **.qza** file into **.qzv** file.\n",
    "\n",
    "### Note, that Step 4 produced 3 output files. For visualization we need only ***stats.qzv*** file.\n",
    "\n",
    "\n",
    "### To convert .qza file, please run the cell below.\n"
   ]
  },
  {
   "cell_type": "code",
   "execution_count": 8,
   "metadata": {
    "scrolled": true
   },
   "outputs": [
    {
     "name": "stdout",
     "output_type": "stream",
     "text": [
      "warning: commands will be executed using /bin/sh\n",
      "job 346 at Fri Jan 26 10:19:00 2024\n",
      ">>> finished <<<\n"
     ]
    }
   ],
   "source": [
    "!qiime metadata tabulate \\\n",
    "--m-input-file stats_{your_number}.qza \\\n",
    "--o-visualization stats_{your_number}.qzv | batch\n",
    "\n",
    "print('>>> finished <<<')"
   ]
  },
  {
   "cell_type": "markdown",
   "metadata": {},
   "source": [
    "# Step 5.2\n",
    "\n",
    "## Now, please download stats.qzv file (using Home Page tab) to your computer.\n",
    "\n",
    "### If unsure how to download and upload your **.qzv** file, please follow the guide from step #3.2. "
   ]
  },
  {
   "cell_type": "markdown",
   "metadata": {},
   "source": [
    "# Step 6.1\n",
    "\n",
    "## Assign taxonomy\n",
    "\n",
    "ASVs are of limited usefulness by themselves. We are often more interested in what type of bacterial\n",
    "strains are present in our samples, not just the **diversity** of the samples. So, to identify these sequence\n",
    "variants, we require:\n",
    "\n",
    "    (1) a reference database \n",
    "    (2) an algorithm for identifying the sequence using the database.\n",
    "\n",
    "\n",
    "In the following section we begin exploring the bacterial taxonomic composition of the\n",
    "samples and relate that to our sample metadata.\n",
    "\n",
    "We will now start to assign the taxonomy to the sequences in our FeatureData[Sequence] QIIME 2\n",
    "artifact (i.e. **rep-seqs.qza** file). \n",
    "\n",
    "We will use a pre-trained Naive Bayes classifier already provided by QIIME 2 project and the\n",
    "**q2-feature-classifier plugin**.\n",
    "\n",
    "The pre-trained Naive Bayes classifier that we will use in this tutorial was trained on the SILVA database."
   ]
  },
  {
   "cell_type": "code",
   "execution_count": 12,
   "metadata": {},
   "outputs": [
    {
     "name": "stdout",
     "output_type": "stream",
     "text": [
      "warning: commands will be executed using /bin/sh\n",
      "job 385 at Fri Jan 26 10:34:00 2024\n",
      "\n",
      "real\t6m2,648s\n",
      "user\t7m19,383s\n",
      "sys\t0m14,799s\n",
      ">>> finished <<<\n",
      ">>> You have successfully assigned taxonomy! <<<\n"
     ]
    }
   ],
   "source": [
    "!time qiime feature-classifier classify-sklearn \\\n",
    "--i-classifier ../../db/silva-138-99-515-806-nb-classifier.qza \\\n",
    "--i-reads rep-seqs_{your_number}.qza \\\n",
    "--o-classification taxonomy_{your_number}.qza \\\n",
    "--p-n-jobs 2 | batch\n",
    "\n",
    "print('>>> finished <<<')\n",
    "print('>>> You have successfully assigned taxonomy! <<<')"
   ]
  },
  {
   "cell_type": "markdown",
   "metadata": {},
   "source": [
    "# Step 6.2 \n",
    "## Create Taxa Barplot\n",
    "\n",
    "### We are almost done with the QIIME2 analysis, we have all the information we need to begin visualization of our data. QIIME2 offers plugins to calculate and visualize various metrics. However, to make things a little bit more interesting, we will use Python to visualize our data. \n",
    "\n",
    "### But first, to show that QIIME2 also can be used as a visualization software, we will create \"Taxa Barplot\" which is commonly added to the results of outsourced bioinformatic analysis.\n",
    "\n",
    "\n",
    "#### Run the cell below. This will produce ***taxa-bar-plots.qzv*** file. Download this file from Home Page (as previously) and upload to https://view.qiime2.org\n"
   ]
  },
  {
   "cell_type": "code",
   "execution_count": 13,
   "metadata": {},
   "outputs": [
    {
     "name": "stdout",
     "output_type": "stream",
     "text": [
      "\u001b[32mSaved Visualization to: taxa-bar-plots_05.qzv\u001b[0m\n",
      "\u001b[0m\n",
      "real\t0m14,693s\n",
      "user\t0m13,740s\n",
      "sys\t0m0,994s\n",
      ">>> finished <<<\n",
      ">>> You have successfully created .qzv file! <<<\n"
     ]
    }
   ],
   "source": [
    "!time qiime taxa barplot \\\n",
    "    --i-table table_{your_number}.qza \\\n",
    "    --i-taxonomy taxonomy_{your_number}.qza \\\n",
    "    --o-visualization taxa-bar-plots_{your_number}.qzv\n",
    "\n",
    "print('>>> finished <<<')\n",
    "print('>>> You have successfully created .qzv file! <<<')"
   ]
  },
  {
   "cell_type": "markdown",
   "metadata": {},
   "source": [
    "## What do you think?"
   ]
  },
  {
   "cell_type": "markdown",
   "metadata": {},
   "source": [
    "### Now, as we have got everything we needed, we are slowly leaving QIIME2 software. The one last thing is to export QIIME2 results into .tsv file."
   ]
  },
  {
   "cell_type": "markdown",
   "metadata": {},
   "source": [
    "# Step 7\n",
    "\n",
    "### Export assigned taxonomy (from QIIME2 artifact (.qza) to text file, that could be used in subsequent steps)\n",
    "\n",
    "#### If you run the cell below, you will convert QIIME2 .qza file with taxonomy assignment to .tsv file (Tab Separated Values, which can be opened in Notapad or Excel)"
   ]
  },
  {
   "cell_type": "code",
   "execution_count": 14,
   "metadata": {},
   "outputs": [
    {
     "name": "stdout",
     "output_type": "stream",
     "text": [
      "warning: commands will be executed using /bin/sh\n",
      "job 401 at Fri Jan 26 10:42:00 2024\n",
      "warning: commands will be executed using /bin/sh\n",
      "job 403 at Fri Jan 26 10:42:00 2024\n",
      ">>> finished <<<\n",
      ">>> You have now coverted QIIME2 output to the \"table.from_biom.tsv\" file!<<<\n"
     ]
    }
   ],
   "source": [
    "!qiime taxa collapse \\\n",
    "    --i-table table_{your_number}.qza \\\n",
    "    --i-taxonomy taxonomy_{your_number}.qza \\\n",
    "    --p-level 6 \\\n",
    "    --o-collapsed-table collapsed-table_{your_number}.qza | batch\n",
    "\n",
    "!qiime tools export \\\n",
    "    --input-path collapsed-table_{your_number}.qza \\\n",
    "    --output-path exported-feature-table_{your_number} | batch\n",
    "\n",
    "!biom convert -i exported-feature-table_{your_number}/feature-table.biom -o table.from_biom.tsv --to-tsv\n",
    "\n",
    "print('>>> finished <<<')\n",
    "print('>>> You have now coverted QIIME2 output to the \"table.from_biom.tsv\" file!<<<')"
   ]
  },
  {
   "cell_type": "markdown",
   "metadata": {},
   "source": [
    "### Congratulations! We are now done with qiime2 analysis. Your results are now safely saved in a text file. Lets proceed to analyze your data."
   ]
  },
  {
   "cell_type": "markdown",
   "metadata": {},
   "source": [
    "# Step 8\n",
    "\n",
    "## Data analysis using Python\n",
    "\n",
    "\n",
    "\n",
    "### First, lets inspect our file. Run the cell below, to use Linux 'head' command, which will display first few lines of specified file:"
   ]
  },
  {
   "cell_type": "code",
   "execution_count": 15,
   "metadata": {},
   "outputs": [
    {
     "name": "stdout",
     "output_type": "stream",
     "text": [
      "# Constructed from biom file\r\n",
      "#OTU ID\t10k-V3-02-22-R24\t10k-V3-05-22-R23\t10k-V3-07-21-R23\r\n",
      "d__Bacteria;p__Actinobacteriota;c__Acidimicrobiia;o__Microtrichales;f__Microtrichaceae;g__Candidatus_Microthrix\t370.0\t294.0\t144.0\r\n",
      "d__Bacteria;p__Chloroflexi;c__Chloroflexia;o__Chloroflexales;__;__\t41.0\t32.0\t221.0\r\n",
      "d__Bacteria;p__Chloroflexi;c__Anaerolineae;o__C10-SB1A;f__C10-SB1A;g__C10-SB1A\t63.0\t72.0\t112.0\r\n",
      "d__Bacteria;p__Chloroflexi;c__Anaerolineae;o__Caldilineales;f__Caldilineaceae;g__uncultured\t132.0\t203.0\t160.0\r\n",
      "d__Bacteria;p__Chloroflexi;c__Chloroflexia;o__Chloroflexales;f__Roseiflexaceae;g__Kouleothrix\t65.0\t48.0\t52.0\r\n",
      "d__Bacteria;p__Chloroflexi;c__OLB14;o__OLB14;f__OLB14;g__OLB14\t36.0\t38.0\t48.0\r\n",
      "d__Bacteria;p__Chloroflexi;c__Anaerolineae;o__Ardenticatenales;f__uncultured;g__uncultured\t34.0\t33.0\t29.0\r\n",
      "d__Bacteria;p__Patescibacteria;c__Saccharimonadia;o__Saccharimonadales;f__LWQ8;g__LWQ8\t40.0\t48.0\t18.0\r\n"
     ]
    }
   ],
   "source": [
    "!head table.from_biom.tsv"
   ]
  },
  {
   "cell_type": "markdown",
   "metadata": {},
   "source": [
    "### Please refer to manual for explanation\n",
    "\n",
    "# Step 8.2\n",
    "\n",
    "### Next, load the text file form the step above, containing qiime2 results into \"pandas\":\n",
    "\n",
    "#### pandas is a fast, powerful, flexible and easy to use open source data analysis and manipulation tool, built on top of the Python programming language.\n",
    "\n",
    "\n",
    "\n",
    "### Run the cell below, your file will be loaded into pandas \"DataFrame\" and its contents will appear as an output"
   ]
  },
  {
   "cell_type": "code",
   "execution_count": 16,
   "metadata": {
    "scrolled": false
   },
   "outputs": [
    {
     "data": {
      "text/html": [
       "<div>\n",
       "<style scoped>\n",
       "    .dataframe tbody tr th:only-of-type {\n",
       "        vertical-align: middle;\n",
       "    }\n",
       "\n",
       "    .dataframe tbody tr th {\n",
       "        vertical-align: top;\n",
       "    }\n",
       "\n",
       "    .dataframe thead th {\n",
       "        text-align: right;\n",
       "    }\n",
       "</style>\n",
       "<table border=\"1\" class=\"dataframe\">\n",
       "  <thead>\n",
       "    <tr style=\"text-align: right;\">\n",
       "      <th></th>\n",
       "      <th>#OTU ID</th>\n",
       "      <th>10k-V3-02-22-R24</th>\n",
       "      <th>10k-V3-05-22-R23</th>\n",
       "      <th>10k-V3-07-21-R23</th>\n",
       "    </tr>\n",
       "  </thead>\n",
       "  <tbody>\n",
       "    <tr>\n",
       "      <th>0</th>\n",
       "      <td>d__Bacteria;p__Actinobacteriota;c__Acidimicrob...</td>\n",
       "      <td>370.0</td>\n",
       "      <td>294.0</td>\n",
       "      <td>144.0</td>\n",
       "    </tr>\n",
       "    <tr>\n",
       "      <th>1</th>\n",
       "      <td>d__Bacteria;p__Chloroflexi;c__Chloroflexia;o__...</td>\n",
       "      <td>41.0</td>\n",
       "      <td>32.0</td>\n",
       "      <td>221.0</td>\n",
       "    </tr>\n",
       "    <tr>\n",
       "      <th>2</th>\n",
       "      <td>d__Bacteria;p__Chloroflexi;c__Anaerolineae;o__...</td>\n",
       "      <td>63.0</td>\n",
       "      <td>72.0</td>\n",
       "      <td>112.0</td>\n",
       "    </tr>\n",
       "    <tr>\n",
       "      <th>3</th>\n",
       "      <td>d__Bacteria;p__Chloroflexi;c__Anaerolineae;o__...</td>\n",
       "      <td>132.0</td>\n",
       "      <td>203.0</td>\n",
       "      <td>160.0</td>\n",
       "    </tr>\n",
       "    <tr>\n",
       "      <th>4</th>\n",
       "      <td>d__Bacteria;p__Chloroflexi;c__Chloroflexia;o__...</td>\n",
       "      <td>65.0</td>\n",
       "      <td>48.0</td>\n",
       "      <td>52.0</td>\n",
       "    </tr>\n",
       "    <tr>\n",
       "      <th>...</th>\n",
       "      <td>...</td>\n",
       "      <td>...</td>\n",
       "      <td>...</td>\n",
       "      <td>...</td>\n",
       "    </tr>\n",
       "    <tr>\n",
       "      <th>56</th>\n",
       "      <td>d__Bacteria;p__Patescibacteria;c__Microgenomat...</td>\n",
       "      <td>0.0</td>\n",
       "      <td>5.0</td>\n",
       "      <td>5.0</td>\n",
       "    </tr>\n",
       "    <tr>\n",
       "      <th>57</th>\n",
       "      <td>d__Bacteria;p__Chloroflexi;__;__;__;__</td>\n",
       "      <td>0.0</td>\n",
       "      <td>0.0</td>\n",
       "      <td>5.0</td>\n",
       "    </tr>\n",
       "    <tr>\n",
       "      <th>58</th>\n",
       "      <td>d__Bacteria;p__Planctomycetota;c__Phycisphaera...</td>\n",
       "      <td>0.0</td>\n",
       "      <td>4.0</td>\n",
       "      <td>0.0</td>\n",
       "    </tr>\n",
       "    <tr>\n",
       "      <th>59</th>\n",
       "      <td>d__Bacteria;p__Cyanobacteria;c__Sericytochroma...</td>\n",
       "      <td>0.0</td>\n",
       "      <td>3.0</td>\n",
       "      <td>0.0</td>\n",
       "    </tr>\n",
       "    <tr>\n",
       "      <th>60</th>\n",
       "      <td>d__Bacteria;p__Patescibacteria;c__Dojkabacteri...</td>\n",
       "      <td>0.0</td>\n",
       "      <td>2.0</td>\n",
       "      <td>0.0</td>\n",
       "    </tr>\n",
       "  </tbody>\n",
       "</table>\n",
       "<p>61 rows × 4 columns</p>\n",
       "</div>"
      ],
      "text/plain": [
       "                                              #OTU ID  10k-V3-02-22-R24  \\\n",
       "0   d__Bacteria;p__Actinobacteriota;c__Acidimicrob...             370.0   \n",
       "1   d__Bacteria;p__Chloroflexi;c__Chloroflexia;o__...              41.0   \n",
       "2   d__Bacteria;p__Chloroflexi;c__Anaerolineae;o__...              63.0   \n",
       "3   d__Bacteria;p__Chloroflexi;c__Anaerolineae;o__...             132.0   \n",
       "4   d__Bacteria;p__Chloroflexi;c__Chloroflexia;o__...              65.0   \n",
       "..                                                ...               ...   \n",
       "56  d__Bacteria;p__Patescibacteria;c__Microgenomat...               0.0   \n",
       "57             d__Bacteria;p__Chloroflexi;__;__;__;__               0.0   \n",
       "58  d__Bacteria;p__Planctomycetota;c__Phycisphaera...               0.0   \n",
       "59  d__Bacteria;p__Cyanobacteria;c__Sericytochroma...               0.0   \n",
       "60  d__Bacteria;p__Patescibacteria;c__Dojkabacteri...               0.0   \n",
       "\n",
       "    10k-V3-05-22-R23  10k-V3-07-21-R23  \n",
       "0              294.0             144.0  \n",
       "1               32.0             221.0  \n",
       "2               72.0             112.0  \n",
       "3              203.0             160.0  \n",
       "4               48.0              52.0  \n",
       "..               ...               ...  \n",
       "56               5.0               5.0  \n",
       "57               0.0               5.0  \n",
       "58               4.0               0.0  \n",
       "59               3.0               0.0  \n",
       "60               2.0               0.0  \n",
       "\n",
       "[61 rows x 4 columns]"
      ]
     },
     "execution_count": 16,
     "metadata": {},
     "output_type": "execute_result"
    }
   ],
   "source": [
    "taxonomic_df = pd.read_csv('table.from_biom.tsv', sep='\\t', skiprows=1)\n",
    "taxonomic_df"
   ]
  },
  {
   "cell_type": "markdown",
   "metadata": {},
   "source": [
    "# Step 8.3\n",
    "\n",
    "### As you can see, the #OTU ID column contains all taxonomic information. We don't need all that information right now. Lets make it simpler, by running the cell below:"
   ]
  },
  {
   "cell_type": "code",
   "execution_count": 17,
   "metadata": {
    "scrolled": false
   },
   "outputs": [
    {
     "data": {
      "text/html": [
       "<div>\n",
       "<style scoped>\n",
       "    .dataframe tbody tr th:only-of-type {\n",
       "        vertical-align: middle;\n",
       "    }\n",
       "\n",
       "    .dataframe tbody tr th {\n",
       "        vertical-align: top;\n",
       "    }\n",
       "\n",
       "    .dataframe thead th {\n",
       "        text-align: right;\n",
       "    }\n",
       "</style>\n",
       "<table border=\"1\" class=\"dataframe\">\n",
       "  <thead>\n",
       "    <tr style=\"text-align: right;\">\n",
       "      <th></th>\n",
       "      <th>10k-V3-02-22-R24</th>\n",
       "      <th>10k-V3-05-22-R23</th>\n",
       "      <th>10k-V3-07-21-R23</th>\n",
       "    </tr>\n",
       "    <tr>\n",
       "      <th>#OTU ID</th>\n",
       "      <th></th>\n",
       "      <th></th>\n",
       "      <th></th>\n",
       "    </tr>\n",
       "  </thead>\n",
       "  <tbody>\n",
       "    <tr>\n",
       "      <th>g__Candidatus_Microthrix</th>\n",
       "      <td>370.0</td>\n",
       "      <td>294.0</td>\n",
       "      <td>144.0</td>\n",
       "    </tr>\n",
       "    <tr>\n",
       "      <th>__</th>\n",
       "      <td>41.0</td>\n",
       "      <td>32.0</td>\n",
       "      <td>221.0</td>\n",
       "    </tr>\n",
       "    <tr>\n",
       "      <th>g__C10-SB1A</th>\n",
       "      <td>63.0</td>\n",
       "      <td>72.0</td>\n",
       "      <td>112.0</td>\n",
       "    </tr>\n",
       "    <tr>\n",
       "      <th>g__uncultured</th>\n",
       "      <td>132.0</td>\n",
       "      <td>203.0</td>\n",
       "      <td>160.0</td>\n",
       "    </tr>\n",
       "    <tr>\n",
       "      <th>g__Kouleothrix</th>\n",
       "      <td>65.0</td>\n",
       "      <td>48.0</td>\n",
       "      <td>52.0</td>\n",
       "    </tr>\n",
       "    <tr>\n",
       "      <th>...</th>\n",
       "      <td>...</td>\n",
       "      <td>...</td>\n",
       "      <td>...</td>\n",
       "    </tr>\n",
       "    <tr>\n",
       "      <th>g__Candidatus_Levybacteria</th>\n",
       "      <td>0.0</td>\n",
       "      <td>5.0</td>\n",
       "      <td>5.0</td>\n",
       "    </tr>\n",
       "    <tr>\n",
       "      <th>__</th>\n",
       "      <td>0.0</td>\n",
       "      <td>0.0</td>\n",
       "      <td>5.0</td>\n",
       "    </tr>\n",
       "    <tr>\n",
       "      <th>g__WD2101_soil_group</th>\n",
       "      <td>0.0</td>\n",
       "      <td>4.0</td>\n",
       "      <td>0.0</td>\n",
       "    </tr>\n",
       "    <tr>\n",
       "      <th>g__Sericytochromatia</th>\n",
       "      <td>0.0</td>\n",
       "      <td>3.0</td>\n",
       "      <td>0.0</td>\n",
       "    </tr>\n",
       "    <tr>\n",
       "      <th>g__Dojkabacteria</th>\n",
       "      <td>0.0</td>\n",
       "      <td>2.0</td>\n",
       "      <td>0.0</td>\n",
       "    </tr>\n",
       "  </tbody>\n",
       "</table>\n",
       "<p>61 rows × 3 columns</p>\n",
       "</div>"
      ],
      "text/plain": [
       "                            10k-V3-02-22-R24  10k-V3-05-22-R23  \\\n",
       "#OTU ID                                                          \n",
       "g__Candidatus_Microthrix               370.0             294.0   \n",
       "__                                      41.0              32.0   \n",
       "g__C10-SB1A                             63.0              72.0   \n",
       "g__uncultured                          132.0             203.0   \n",
       "g__Kouleothrix                          65.0              48.0   \n",
       "...                                      ...               ...   \n",
       "g__Candidatus_Levybacteria               0.0               5.0   \n",
       "__                                       0.0               0.0   \n",
       "g__WD2101_soil_group                     0.0               4.0   \n",
       "g__Sericytochromatia                     0.0               3.0   \n",
       "g__Dojkabacteria                         0.0               2.0   \n",
       "\n",
       "                            10k-V3-07-21-R23  \n",
       "#OTU ID                                       \n",
       "g__Candidatus_Microthrix               144.0  \n",
       "__                                     221.0  \n",
       "g__C10-SB1A                            112.0  \n",
       "g__uncultured                          160.0  \n",
       "g__Kouleothrix                          52.0  \n",
       "...                                      ...  \n",
       "g__Candidatus_Levybacteria               5.0  \n",
       "__                                       5.0  \n",
       "g__WD2101_soil_group                     0.0  \n",
       "g__Sericytochromatia                     0.0  \n",
       "g__Dojkabacteria                         0.0  \n",
       "\n",
       "[61 rows x 3 columns]"
      ]
     },
     "execution_count": 17,
     "metadata": {},
     "output_type": "execute_result"
    }
   ],
   "source": [
    "split = taxonomic_df['#OTU ID'].str.split(';',expand=True)\n",
    "taxonomic_df = taxonomic_df.join(split[5])\n",
    "taxonomic_df.drop(columns='#OTU ID', inplace=True)\n",
    "taxonomic_df.rename(columns={5:\"#OTU ID\"}, inplace=True)\n",
    "taxonomic_df.set_index('#OTU ID', inplace=True)\n",
    "taxonomic_df"
   ]
  },
  {
   "cell_type": "markdown",
   "metadata": {},
   "source": [
    "### Much better! With our table clean and ready, lets proceed with the analysis!"
   ]
  },
  {
   "cell_type": "markdown",
   "metadata": {},
   "source": [
    "# Step 9.1\n",
    "\n",
    "### Now we can calculate the shannon alpha diversity metrics\n",
    "\n",
    "#### Run the cell below to calculate shannon diversity metrics!"
   ]
  },
  {
   "cell_type": "code",
   "execution_count": 19,
   "metadata": {},
   "outputs": [
    {
     "data": {
      "text/plain": [
       "10k-V3-02-22-R24    4.271017\n",
       "10k-V3-05-22-R23    4.488641\n",
       "10k-V3-07-21-R23    4.389142\n",
       "dtype: float64"
      ]
     },
     "execution_count": 19,
     "metadata": {},
     "output_type": "execute_result"
    }
   ],
   "source": [
    "counts = []\n",
    "for x in taxonomic_df.columns: counts.append(list(taxonomic_df[x].values))\n",
    "\n",
    "ids = []\n",
    "for x in list(taxonomic_df.columns): ids.append(x)\n",
    "    \n",
    "    \n",
    "adiv_shannon = alpha_diversity('shannon', counts, ids)\n",
    "adiv_shannon"
   ]
  },
  {
   "cell_type": "markdown",
   "metadata": {},
   "source": [
    "Thats it! So easy!"
   ]
  },
  {
   "cell_type": "markdown",
   "metadata": {},
   "source": [
    "# Step 9.2\n",
    "\n",
    "###  Now calculate other alpha diversity metrics by yourself. To list all available metrics, plese run, the following command, and proceed:"
   ]
  },
  {
   "cell_type": "code",
   "execution_count": 20,
   "metadata": {
    "scrolled": false
   },
   "outputs": [
    {
     "data": {
      "text/plain": [
       "['ace',\n",
       " 'berger_parker_d',\n",
       " 'brillouin_d',\n",
       " 'chao1',\n",
       " 'chao1_ci',\n",
       " 'dominance',\n",
       " 'doubles',\n",
       " 'enspie',\n",
       " 'esty_ci',\n",
       " 'faith_pd',\n",
       " 'fisher_alpha',\n",
       " 'gini_index',\n",
       " 'goods_coverage',\n",
       " 'heip_e',\n",
       " 'kempton_taylor_q',\n",
       " 'lladser_ci',\n",
       " 'lladser_pe',\n",
       " 'margalef',\n",
       " 'mcintosh_d',\n",
       " 'mcintosh_e',\n",
       " 'menhinick',\n",
       " 'michaelis_menten_fit',\n",
       " 'observed_otus',\n",
       " 'osd',\n",
       " 'pielou_e',\n",
       " 'robbins',\n",
       " 'shannon',\n",
       " 'simpson',\n",
       " 'simpson_e',\n",
       " 'singles',\n",
       " 'strong']"
      ]
     },
     "execution_count": 20,
     "metadata": {},
     "output_type": "execute_result"
    }
   ],
   "source": [
    "get_alpha_diversity_metrics()\n"
   ]
  },
  {
   "cell_type": "markdown",
   "metadata": {},
   "source": [
    "# Step 9.3\n",
    "\n",
    "#### What will you choose? Please write your metric of choice in the cell below:"
   ]
  },
  {
   "cell_type": "code",
   "execution_count": 21,
   "metadata": {
    "scrolled": true
   },
   "outputs": [
    {
     "data": {
      "text/plain": [
       "10k-V3-02-22-R24    7.546893\n",
       "10k-V3-05-22-R23    9.243204\n",
       "10k-V3-07-21-R23    7.030479\n",
       "dtype: float64"
      ]
     },
     "execution_count": 21,
     "metadata": {},
     "output_type": "execute_result"
    }
   ],
   "source": [
    "#                       _please write metric between brackets '' and run the cell\n",
    "metric_of_your_choice = 'heip_e'\n",
    "adiv_yourchoice = alpha_diversity('fisher_alpha', counts, ids)\n",
    "adiv_yourchoice"
   ]
  },
  {
   "cell_type": "markdown",
   "metadata": {},
   "source": [
    "### Great!"
   ]
  },
  {
   "cell_type": "markdown",
   "metadata": {},
   "source": [
    "# Step 9.4\n",
    "\n",
    "### Now lets visualize our results!\n",
    "\n",
    "### Running the cell below, will show shannon diversity metrics as a simple barplot. Go ahead and run it!"
   ]
  },
  {
   "cell_type": "code",
   "execution_count": 22,
   "metadata": {
    "scrolled": false
   },
   "outputs": [
    {
     "data": {
      "text/plain": [
       "<AxesSubplot: xlabel='sample_name', ylabel='shannon'>"
      ]
     },
     "execution_count": 22,
     "metadata": {},
     "output_type": "execute_result"
    },
    {
     "data": {
      "image/png": "[encoded data removed]",
      "text/plain": [
       "<Figure size 640x480 with 1 Axes>"
      ]
     },
     "metadata": {},
     "output_type": "display_data"
    }
   ],
   "source": [
    "adiv_shannon_df = adiv_shannon.to_frame().reset_index()\n",
    "adiv_shannon_df.rename(columns = {'index':'sample_name', 0:'shannon'}, inplace=True)\n",
    "%matplotlib inline\n",
    "sns.barplot(data=adiv_shannon_df, x='sample_name', y='shannon')"
   ]
  },
  {
   "cell_type": "markdown",
   "metadata": {},
   "source": [
    "# Step 9.5\n",
    "\n",
    "## Great! But what about your other metric? Now we will merge results of both metrics in a single table and then plot them toghether."
   ]
  },
  {
   "cell_type": "markdown",
   "metadata": {},
   "source": [
    "### Running the cell below will merge shannon metrics with metric of your choice (that you choose previously)"
   ]
  },
  {
   "cell_type": "code",
   "execution_count": 23,
   "metadata": {},
   "outputs": [
    {
     "data": {
      "text/html": [
       "<div>\n",
       "<style scoped>\n",
       "    .dataframe tbody tr th:only-of-type {\n",
       "        vertical-align: middle;\n",
       "    }\n",
       "\n",
       "    .dataframe tbody tr th {\n",
       "        vertical-align: top;\n",
       "    }\n",
       "\n",
       "    .dataframe thead th {\n",
       "        text-align: right;\n",
       "    }\n",
       "</style>\n",
       "<table border=\"1\" class=\"dataframe\">\n",
       "  <thead>\n",
       "    <tr style=\"text-align: right;\">\n",
       "      <th></th>\n",
       "      <th>sample_name</th>\n",
       "      <th>shannon</th>\n",
       "      <th>heip_e</th>\n",
       "    </tr>\n",
       "  </thead>\n",
       "  <tbody>\n",
       "    <tr>\n",
       "      <th>0</th>\n",
       "      <td>10k-V3-02-22-R24</td>\n",
       "      <td>4.271017</td>\n",
       "      <td>7.546893</td>\n",
       "    </tr>\n",
       "    <tr>\n",
       "      <th>1</th>\n",
       "      <td>10k-V3-05-22-R23</td>\n",
       "      <td>4.488641</td>\n",
       "      <td>9.243204</td>\n",
       "    </tr>\n",
       "    <tr>\n",
       "      <th>2</th>\n",
       "      <td>10k-V3-07-21-R23</td>\n",
       "      <td>4.389142</td>\n",
       "      <td>7.030479</td>\n",
       "    </tr>\n",
       "  </tbody>\n",
       "</table>\n",
       "</div>"
      ],
      "text/plain": [
       "        sample_name   shannon    heip_e\n",
       "0  10k-V3-02-22-R24  4.271017  7.546893\n",
       "1  10k-V3-05-22-R23  4.488641  9.243204\n",
       "2  10k-V3-07-21-R23  4.389142  7.030479"
      ]
     },
     "execution_count": 23,
     "metadata": {},
     "output_type": "execute_result"
    }
   ],
   "source": [
    "adiv_yourchoice_df = adiv_yourchoice.to_frame().reset_index()\n",
    "\n",
    "adiv_yourchoice_df.rename(columns= {'index':'sample_name', 0:metric_of_your_choice}, inplace=True)\n",
    "\n",
    "adiv_shannon_and_yourchoice_df = adiv_shannon_df.merge(adiv_yourchoice_df, on='sample_name')\n",
    "adiv_shannon_and_yourchoice_df"
   ]
  },
  {
   "cell_type": "markdown",
   "metadata": {},
   "source": [
    "# Step 9.6\n",
    "\n",
    "### Now we can plot both results on a single figure"
   ]
  },
  {
   "cell_type": "code",
   "execution_count": 24,
   "metadata": {},
   "outputs": [
    {
     "data": {
      "image/png": "[encoded data removed]",
      "text/plain": [
       "<Figure size 1200x600 with 2 Axes>"
      ]
     },
     "metadata": {},
     "output_type": "display_data"
    }
   ],
   "source": [
    "fig, (ax1, ax2) = plt.subplots(1, 2, figsize=(12, 6))\n",
    "\n",
    "\n",
    "sns.barplot(data=adiv_shannon_and_yourchoice_df, x='sample_name', y='shannon', ax=ax1, width=0.6)\n",
    "sns.barplot(data=adiv_shannon_and_yourchoice_df, x='sample_name', y=metric_of_your_choice, ax=ax2, width=0.6)\n",
    "\n",
    "ax1.tick_params(axis='x', labelrotation=45)\n",
    "ax2.tick_params(axis='x', labelrotation=-90)\n"
   ]
  },
  {
   "cell_type": "markdown",
   "metadata": {},
   "source": [
    "# Step 10.1\n",
    "\n",
    "## Heatmap"
   ]
  },
  {
   "cell_type": "markdown",
   "metadata": {},
   "source": [
    "## Run the Cell below to draw a simple heatmap from our data"
   ]
  },
  {
   "cell_type": "code",
   "execution_count": 25,
   "metadata": {},
   "outputs": [
    {
     "data": {
      "image/png": "[encoded data removed]",
      "text/plain": [
       "<Figure size 640x480 with 2 Axes>"
      ]
     },
     "metadata": {},
     "output_type": "display_data"
    }
   ],
   "source": [
    "%matplotlib inline\n",
    "heatmap = sns.heatmap(taxonomic_df)"
   ]
  },
  {
   "cell_type": "markdown",
   "metadata": {},
   "source": [
    "# Step 10.2\n",
    "\n",
    "### Its not realy readible, lets select top 20 species:"
   ]
  },
  {
   "cell_type": "code",
   "execution_count": 26,
   "metadata": {},
   "outputs": [
    {
     "data": {
      "text/html": [
       "<div>\n",
       "<style scoped>\n",
       "    .dataframe tbody tr th:only-of-type {\n",
       "        vertical-align: middle;\n",
       "    }\n",
       "\n",
       "    .dataframe tbody tr th {\n",
       "        vertical-align: top;\n",
       "    }\n",
       "\n",
       "    .dataframe thead th {\n",
       "        text-align: right;\n",
       "    }\n",
       "</style>\n",
       "<table border=\"1\" class=\"dataframe\">\n",
       "  <thead>\n",
       "    <tr style=\"text-align: right;\">\n",
       "      <th></th>\n",
       "      <th>10k-V3-02-22-R24</th>\n",
       "      <th>10k-V3-05-22-R23</th>\n",
       "      <th>10k-V3-07-21-R23</th>\n",
       "    </tr>\n",
       "    <tr>\n",
       "      <th>#OTU ID</th>\n",
       "      <th></th>\n",
       "      <th></th>\n",
       "      <th></th>\n",
       "    </tr>\n",
       "  </thead>\n",
       "  <tbody>\n",
       "    <tr>\n",
       "      <th>g__Candidatus_Microthrix</th>\n",
       "      <td>370.0</td>\n",
       "      <td>294.0</td>\n",
       "      <td>144.0</td>\n",
       "    </tr>\n",
       "    <tr>\n",
       "      <th>__</th>\n",
       "      <td>41.0</td>\n",
       "      <td>32.0</td>\n",
       "      <td>221.0</td>\n",
       "    </tr>\n",
       "    <tr>\n",
       "      <th>g__C10-SB1A</th>\n",
       "      <td>63.0</td>\n",
       "      <td>72.0</td>\n",
       "      <td>112.0</td>\n",
       "    </tr>\n",
       "    <tr>\n",
       "      <th>g__uncultured</th>\n",
       "      <td>132.0</td>\n",
       "      <td>203.0</td>\n",
       "      <td>160.0</td>\n",
       "    </tr>\n",
       "    <tr>\n",
       "      <th>g__Kouleothrix</th>\n",
       "      <td>65.0</td>\n",
       "      <td>48.0</td>\n",
       "      <td>52.0</td>\n",
       "    </tr>\n",
       "    <tr>\n",
       "      <th>g__OLB14</th>\n",
       "      <td>36.0</td>\n",
       "      <td>38.0</td>\n",
       "      <td>48.0</td>\n",
       "    </tr>\n",
       "    <tr>\n",
       "      <th>g__uncultured</th>\n",
       "      <td>34.0</td>\n",
       "      <td>33.0</td>\n",
       "      <td>29.0</td>\n",
       "    </tr>\n",
       "    <tr>\n",
       "      <th>g__LWQ8</th>\n",
       "      <td>40.0</td>\n",
       "      <td>48.0</td>\n",
       "      <td>18.0</td>\n",
       "    </tr>\n",
       "    <tr>\n",
       "      <th>g__Novosphingobium</th>\n",
       "      <td>31.0</td>\n",
       "      <td>34.0</td>\n",
       "      <td>24.0</td>\n",
       "    </tr>\n",
       "    <tr>\n",
       "      <th>g__uncultured</th>\n",
       "      <td>51.0</td>\n",
       "      <td>27.0</td>\n",
       "      <td>44.0</td>\n",
       "    </tr>\n",
       "    <tr>\n",
       "      <th>g__1-20</th>\n",
       "      <td>30.0</td>\n",
       "      <td>45.0</td>\n",
       "      <td>29.0</td>\n",
       "    </tr>\n",
       "    <tr>\n",
       "      <th>g__Saccharimonadales</th>\n",
       "      <td>27.0</td>\n",
       "      <td>145.0</td>\n",
       "      <td>47.0</td>\n",
       "    </tr>\n",
       "    <tr>\n",
       "      <th>__</th>\n",
       "      <td>0.0</td>\n",
       "      <td>19.0</td>\n",
       "      <td>36.0</td>\n",
       "    </tr>\n",
       "    <tr>\n",
       "      <th>g__CL500-29_marine_group</th>\n",
       "      <td>31.0</td>\n",
       "      <td>19.0</td>\n",
       "      <td>23.0</td>\n",
       "    </tr>\n",
       "    <tr>\n",
       "      <th>g__A4b</th>\n",
       "      <td>40.0</td>\n",
       "      <td>4.0</td>\n",
       "      <td>44.0</td>\n",
       "    </tr>\n",
       "    <tr>\n",
       "      <th>g__Defluviicoccus</th>\n",
       "      <td>22.0</td>\n",
       "      <td>14.0</td>\n",
       "      <td>49.0</td>\n",
       "    </tr>\n",
       "    <tr>\n",
       "      <th>__</th>\n",
       "      <td>12.0</td>\n",
       "      <td>19.0</td>\n",
       "      <td>0.0</td>\n",
       "    </tr>\n",
       "    <tr>\n",
       "      <th>g__SWB02</th>\n",
       "      <td>0.0</td>\n",
       "      <td>0.0</td>\n",
       "      <td>30.0</td>\n",
       "    </tr>\n",
       "    <tr>\n",
       "      <th>g__uncultured</th>\n",
       "      <td>13.0</td>\n",
       "      <td>21.0</td>\n",
       "      <td>8.0</td>\n",
       "    </tr>\n",
       "    <tr>\n",
       "      <th>g__uncultured</th>\n",
       "      <td>12.0</td>\n",
       "      <td>20.0</td>\n",
       "      <td>29.0</td>\n",
       "    </tr>\n",
       "  </tbody>\n",
       "</table>\n",
       "</div>"
      ],
      "text/plain": [
       "                          10k-V3-02-22-R24  10k-V3-05-22-R23  10k-V3-07-21-R23\n",
       "#OTU ID                                                                       \n",
       "g__Candidatus_Microthrix             370.0             294.0             144.0\n",
       "__                                    41.0              32.0             221.0\n",
       "g__C10-SB1A                           63.0              72.0             112.0\n",
       "g__uncultured                        132.0             203.0             160.0\n",
       "g__Kouleothrix                        65.0              48.0              52.0\n",
       "g__OLB14                              36.0              38.0              48.0\n",
       "g__uncultured                         34.0              33.0              29.0\n",
       "g__LWQ8                               40.0              48.0              18.0\n",
       "g__Novosphingobium                    31.0              34.0              24.0\n",
       "g__uncultured                         51.0              27.0              44.0\n",
       "g__1-20                               30.0              45.0              29.0\n",
       "g__Saccharimonadales                  27.0             145.0              47.0\n",
       "__                                     0.0              19.0              36.0\n",
       "g__CL500-29_marine_group              31.0              19.0              23.0\n",
       "g__A4b                                40.0               4.0              44.0\n",
       "g__Defluviicoccus                     22.0              14.0              49.0\n",
       "__                                    12.0              19.0               0.0\n",
       "g__SWB02                               0.0               0.0              30.0\n",
       "g__uncultured                         13.0              21.0               8.0\n",
       "g__uncultured                         12.0              20.0              29.0"
      ]
     },
     "execution_count": 26,
     "metadata": {},
     "output_type": "execute_result"
    }
   ],
   "source": [
    "taxonomic_df_top = taxonomic_df.iloc[:20]\n",
    "taxonomic_df_top"
   ]
  },
  {
   "cell_type": "markdown",
   "metadata": {},
   "source": [
    "# Step 10.3\n",
    "\n",
    "#### And replot our heatmap"
   ]
  },
  {
   "cell_type": "code",
   "execution_count": 27,
   "metadata": {},
   "outputs": [
    {
     "data": {
      "image/png": "[encoded data removed]",
      "text/plain": [
       "<Figure size 640x480 with 2 Axes>"
      ]
     },
     "metadata": {},
     "output_type": "display_data"
    }
   ],
   "source": [
    "%matplotlib inline\n",
    "heatmap_top = sns.heatmap(taxonomic_df_top)"
   ]
  },
  {
   "cell_type": "markdown",
   "metadata": {},
   "source": [
    "# Congratulations! Now we are done!"
   ]
  }
 ],
 "metadata": {
  "kernelspec": {
   "display_name": "Python 3",
   "language": "python",
   "name": "python3"
  },
  "language_info": {
   "codemirror_mode": {
    "name": "ipython",
    "version": 3
   },
   "file_extension": ".py",
   "mimetype": "text/x-python",
   "name": "python",
   "nbconvert_exporter": "python",
   "pygments_lexer": "ipython3",
   "version": "3.7.8"
  }
 },
 "nbformat": 4,
 "nbformat_minor": 5
}
